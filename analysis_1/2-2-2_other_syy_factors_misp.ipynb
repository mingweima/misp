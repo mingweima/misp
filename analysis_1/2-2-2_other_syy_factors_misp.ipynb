{
 "cells": [
  {
   "cell_type": "code",
   "execution_count": 1,
   "metadata": {
    "ExecuteTime": {
     "end_time": "2020-10-22T19:37:33.895803Z",
     "start_time": "2020-10-22T19:37:32.714180Z"
    }
   },
   "outputs": [],
   "source": [
    "import sys\n",
    "import os\n",
    "module_path = os.path.abspath(os.path.join('..'))\n",
    "if module_path not in sys.path:\n",
    "    sys.path.append(module_path)\n",
    "    \n",
    "from global_import import *\n",
    "from valuation.val import perform_valuation\n",
    "from fm import fama_macbeth_reg_panel_nw"
   ]
  },
  {
   "cell_type": "code",
   "execution_count": 2,
   "metadata": {
    "ExecuteTime": {
     "end_time": "2020-10-22T19:37:34.054149Z",
     "start_time": "2020-10-22T19:37:33.914272Z"
    }
   },
   "outputs": [],
   "source": [
    "LOOKUP_FOLDER = '~/Documents/GitHub/misp/lookup_tables'\n",
    "\n",
    "def clean_ccm(ccm):\n",
    "    ccm['permno'] = ccm['permno'].astype(int).astype(str)\n",
    "    ccm['gvkey'] = ccm['gvkey'].astype(str)\n",
    "    ccm['linkdt'] = pd.to_datetime(ccm['linkdt'])\n",
    "    ccm['linkenddt'] = pd.to_datetime(ccm['linkenddt'])\n",
    "    isnull = ccm['linkenddt'].isnull()\n",
    "    ccm.loc[isnull, 'linkenddt'] = pd.Timestamp(year=2047, month=7, day=1)\n",
    "    return ccm\n",
    "\n",
    "ccm = pd.read_pickle(os.path.join(LOOKUP_FOLDER, 'ccm.pkl'))\n",
    "ccm_raw = pd.read_pickle(os.path.join(LOOKUP_FOLDER, 'ccm_raw.pkl'))\n",
    "ccm, ccm_raw = clean_ccm(ccm), clean_ccm(ccm_raw)"
   ]
  },
  {
   "cell_type": "code",
   "execution_count": 3,
   "metadata": {
    "ExecuteTime": {
     "end_time": "2020-10-22T19:37:39.096432Z",
     "start_time": "2020-10-22T19:37:34.303955Z"
    }
   },
   "outputs": [
    {
     "name": "stderr",
     "output_type": "stream",
     "text": [
      "/Users/mmw/Installations/venvs/mlval/lib/python3.7/site-packages/numpy/lib/arraysetops.py:580: FutureWarning: elementwise comparison failed; returning scalar instead, but in the future will perform elementwise comparison\n",
      "  mask |= (ar1 == a)\n"
     ]
    }
   ],
   "source": [
    "syy_a = pd.read_csv(f'{DATA_FOLDER}/syy/annualfactor.csv', index_col=0)\n",
    "syy_m = pd.read_csv(f'{DATA_FOLDER}/syy/monthlyfactor.csv', index_col=0)\n",
    "syy_q = pd.read_csv(f'{DATA_FOLDER}/syy/quarterlyfactor.csv', index_col=0)\n",
    "\n",
    "ccm['gvkey'] = ccm['gvkey'].astype(int)\n",
    "syy_q = syy_q.merge(ccm, on=['gvkey'])\n",
    "syy_q = syy_q[['permno', 'year', 'month', 'retonat11']]\n",
    "syy_a['year']=syy_a.index\n",
    "syy_a = syy_a.merge(ccm, on=['gvkey'])\n",
    "syy_a = syy_a[['permno', 'year', 'month', 'netstkis1' ,'accruals3', 'netopat4','atgr5','invtoat6','o8','grpf10']]\n",
    "syy_q['date'] = pd.to_datetime(syy_q[['year', 'month']].assign(DAY=1))\n",
    "syy_a['date'] = pd.to_datetime(syy_a[['year', 'month']].assign(DAY=1))\n",
    "syy_a = syy_a.sort_values(['date'], ascending=True).set_index('date')\n",
    "syy_q = syy_q.sort_values(['date'], ascending=True).set_index('date')\n",
    "syy_a = syy_a.drop(columns=['year', 'month'])\n",
    "syy_q = syy_q.drop(columns=['year', 'month'])\n",
    "syy_m['date'] = pd.to_datetime(syy_m[['year', 'month']].assign(DAY=1))\n",
    "syy_m = syy_m.drop(columns=['year', 'month'])\n",
    "syy_m['permno'] = syy_m.index.astype(int)\n",
    "syy_m = syy_m.sort_values(['date'], ascending=True).set_index('date')"
   ]
  },
  {
   "cell_type": "code",
   "execution_count": 4,
   "metadata": {
    "ExecuteTime": {
     "end_time": "2020-10-22T19:37:40.667481Z",
     "start_time": "2020-10-22T19:37:39.193416Z"
    }
   },
   "outputs": [],
   "source": [
    "syy_aq = pd.merge_asof(syy_q, syy_a, on='date', direction='backward', by='permno')\n",
    "syy_aq['permno'] = syy_aq['permno'].astype(int)\n",
    "syy_aqm = pd.merge_asof(syy_m, syy_aq, left_index=True, right_on='date', direction='backward', by='permno')"
   ]
  },
  {
   "cell_type": "code",
   "execution_count": 5,
   "metadata": {
    "ExecuteTime": {
     "end_time": "2020-10-22T19:37:42.633756Z",
     "start_time": "2020-10-22T19:37:42.016401Z"
    }
   },
   "outputs": [
    {
     "name": "stderr",
     "output_type": "stream",
     "text": [
      "/Users/mmw/Installations/venvs/mlval/lib/python3.7/site-packages/ipykernel_launcher.py:2: SettingWithCopyWarning: \n",
      "A value is trying to be set on a copy of a slice from a DataFrame.\n",
      "Try using .loc[row_indexer,col_indexer] = value instead\n",
      "\n",
      "See the caveats in the documentation: http://pandas.pydata.org/pandas-docs/stable/indexing.html#indexing-view-versus-copy\n",
      "  \n"
     ]
    }
   ],
   "source": [
    "syy = syy_aqm.dropna(thresh=10) \n",
    "syy['date']=syy['date']+MonthEnd(0)"
   ]
  },
  {
   "cell_type": "code",
   "execution_count": 13,
   "metadata": {
    "ExecuteTime": {
     "end_time": "2020-10-22T19:40:12.908071Z",
     "start_time": "2020-10-22T19:39:54.515684Z"
    }
   },
   "outputs": [
    {
     "name": "stderr",
     "output_type": "stream",
     "text": [
      "/Users/mmw/Installations/venvs/mlval/lib/python3.7/site-packages/numpy/lib/arraysetops.py:580: FutureWarning: elementwise comparison failed; returning scalar instead, but in the future will perform elementwise comparison\n",
      "  mask |= (ar1 == a)\n"
     ]
    }
   ],
   "source": [
    "ret_decomp_dcf5 = pd.read_csv(f'{DATA_FOLDER}/decomp_dcf5y_RF_rolling_1980_2019.csv', index_col=0)\n",
    "ret_decomp_dcf5 = ret_decomp_dcf5[ret_decomp_dcf5.year<=2014]\n",
    "ret_decomp_dcf5['jdate'] = pd.to_datetime(ret_decomp_dcf5.jdate)\n",
    "ret_decomp_dcf5 = ret_decomp_dcf5[ret_decomp_dcf5.prc>5]"
   ]
  },
  {
   "cell_type": "code",
   "execution_count": 14,
   "metadata": {
    "ExecuteTime": {
     "end_time": "2020-10-22T19:40:15.133311Z",
     "start_time": "2020-10-22T19:40:13.278844Z"
    }
   },
   "outputs": [],
   "source": [
    "mdf5 = syy.merge(ret_decomp_dcf5, left_on=['date', 'permno'], right_on=['jdate', 'permno'], how='right')"
   ]
  },
  {
   "cell_type": "code",
   "execution_count": 15,
   "metadata": {
    "ExecuteTime": {
     "end_time": "2020-10-22T19:40:16.910433Z",
     "start_time": "2020-10-22T19:40:15.521925Z"
    }
   },
   "outputs": [],
   "source": [
    "mdf5 = mdf5.drop_duplicates(subset=['jdate', 'permno'])"
   ]
  },
  {
   "cell_type": "code",
   "execution_count": 16,
   "metadata": {
    "ExecuteTime": {
     "end_time": "2020-10-22T19:40:17.411289Z",
     "start_time": "2020-10-22T19:40:17.258574Z"
    }
   },
   "outputs": [
    {
     "data": {
      "text/plain": [
       "<AxesSubplot:>"
      ]
     },
     "execution_count": 16,
     "metadata": {},
     "output_type": "execute_result"
    },
    {
     "data": {
      "image/png": "[encoded data removed]",
      "text/plain": [
       "<Figure size 432x288 with 1 Axes>"
      ]
     },
     "metadata": {},
     "output_type": "display_data"
    }
   ],
   "source": [
    "mdf5['year'].value_counts().sort_index().plot()"
   ]
  },
  {
   "cell_type": "code",
   "execution_count": 17,
   "metadata": {
    "ExecuteTime": {
     "end_time": "2020-10-22T19:40:34.805550Z",
     "start_time": "2020-10-22T19:40:33.436102Z"
    }
   },
   "outputs": [],
   "source": [
    "mdf5 = mdf5.sort_values(['permno', 'date'], ascending=True).set_index('date')"
   ]
  },
  {
   "cell_type": "code",
   "execution_count": 18,
   "metadata": {
    "ExecuteTime": {
     "end_time": "2020-10-22T19:41:39.683578Z",
     "start_time": "2020-10-22T19:40:35.839401Z"
    },
    "scrolled": false
   },
   "outputs": [
    {
     "name": "stdout",
     "output_type": "stream",
     "text": [
      "Misp ~ compeqis2, 5Yr-DCF\n",
      "           count      mean  std_error      tstat  std_error_nw   tstat_nw\n",
      "alpha_i_t  408.0  0.174962   0.022643   7.726969      0.053951   3.242998\n",
      "compeqis2  408.0  0.794328   0.020926  37.958591      0.042253  18.799242\n",
      "\n",
      "Misp ~ mmt9, 5Yr-DCF\n",
      "           count      mean  std_error      tstat  std_error_nw   tstat_nw\n",
      "alpha_i_t  408.0 -0.218100   0.024026  -9.077705      0.056061  -3.890406\n",
      "mmt9       408.0  0.056626   0.002452  23.096185      0.005434  10.420184\n",
      "\n",
      "Misp ~ retonat11, 5Yr-DCF\n",
      "           count      mean  std_error      tstat  std_error_nw  tstat_nw\n",
      "alpha_i_t  408.0  0.060255   0.021075   2.859019      0.050094  1.202848\n",
      "retonat11  408.0  2.428032   0.187156  12.973289      0.433507  5.600912\n",
      "\n",
      "Misp ~ netstkis1, 5Yr-DCF\n",
      "           count      mean  std_error      tstat  std_error_nw   tstat_nw\n",
      "alpha_i_t  408.0 -0.148960   0.023130  -6.440008      0.055225  -2.697334\n",
      "netstkis1  408.0  0.045055   0.001106  40.748954      0.002600  17.326919\n",
      "\n",
      "Misp ~ accruals3, 5Yr-DCF\n",
      "           count      mean  std_error     tstat  std_error_nw  tstat_nw\n",
      "alpha_i_t  408.0  0.105625   0.021586  4.893166      0.051408  2.054657\n",
      "accruals3  408.0  0.001785   0.011989  0.148868      0.024024  0.074290\n",
      "\n",
      "Misp ~ netopat4, 5Yr-DCF\n",
      "           count      mean  std_error      tstat  std_error_nw  tstat_nw\n",
      "alpha_i_t  408.0  0.196560   0.018830  10.438422      0.044322  4.434853\n",
      "netopat4   408.0 -0.175064   0.013663 -12.812762      0.032000 -5.470787\n",
      "\n",
      "Misp ~ atgr5, 5Yr-DCF\n",
      "           count      mean  std_error      tstat  std_error_nw   tstat_nw\n",
      "alpha_i_t  408.0  0.055800   0.021713   2.569926      0.051698   1.079347\n",
      "atgr5      408.0  0.248618   0.009424  26.382622      0.020536  12.106525\n",
      "\n",
      "Misp ~ invtoat6, 5Yr-DCF\n",
      "           count      mean  std_error      tstat  std_error_nw  tstat_nw\n",
      "alpha_i_t  408.0  0.073049   0.021485   3.399942      0.051149  1.428151\n",
      "invtoat6   408.0  0.228755   0.014925  15.327134      0.032182  7.108254\n",
      "\n",
      "Misp ~ o8, 5Yr-DCF\n",
      "           count     mean  std_error      tstat  std_error_nw  tstat_nw\n",
      "alpha_i_t  408.0 -0.03815   0.019139  -1.993326      0.045085 -0.846186\n",
      "o8         408.0 -0.04441   0.001918 -23.158682      0.004521 -9.822137\n",
      "\n",
      "Misp ~ grpf10, 5Yr-DCF\n",
      "           count      mean  std_error     tstat  std_error_nw  tstat_nw\n",
      "alpha_i_t  408.0  0.063557   0.019051  3.336254      0.044901  1.415513\n",
      "grpf10     408.0  0.072778   0.014541  5.004878      0.034319  2.120670\n",
      "\n"
     ]
    }
   ],
   "source": [
    "for var in ['compeqis2', 'mmt9','retonat11', 'netstkis1', 'accruals3',\n",
    "              'netopat4', 'atgr5', 'invtoat6', 'o8', 'grpf10']:\n",
    "    regdf = mdf5[['jdate', 'permno', 'ticker', var, 'misp']].replace([np.inf, -np.inf], np.nan).dropna()\n",
    "    print(f'Misp ~ {var}, 5Yr-DCF')\n",
    "    print(fama_macbeth_reg_panel_nw(regdf, xname=var, yname='misp'))\n",
    "    print('')"
   ]
  },
  {
   "cell_type": "code",
   "execution_count": 19,
   "metadata": {
    "ExecuteTime": {
     "end_time": "2020-10-22T19:41:43.449362Z",
     "start_time": "2020-10-22T19:41:40.039506Z"
    }
   },
   "outputs": [
    {
     "name": "stderr",
     "output_type": "stream",
     "text": [
      "/Users/mmw/Installations/venvs/mlval/lib/python3.7/site-packages/numpy/lib/arraysetops.py:580: FutureWarning: elementwise comparison failed; returning scalar instead, but in the future will perform elementwise comparison\n",
      "  mask |= (ar1 == a)\n"
     ]
    }
   ],
   "source": [
    "misp_scroe = pd.read_csv(f'{DATA_FOLDER}/Misp_Score.csv', index_col=0)\n",
    "misp_scroe['date'] = pd.to_datetime(misp_scroe['yyyymm'], format='%Y%m') + MonthEnd(0)\n",
    "misp_scroe['year'] = misp_scroe['date'].dt.year"
   ]
  },
  {
   "cell_type": "code",
   "execution_count": 20,
   "metadata": {
    "ExecuteTime": {
     "end_time": "2020-10-22T19:41:43.993638Z",
     "start_time": "2020-10-22T19:41:43.846073Z"
    }
   },
   "outputs": [
    {
     "data": {
      "text/plain": [
       "<AxesSubplot:>"
      ]
     },
     "execution_count": 20,
     "metadata": {},
     "output_type": "execute_result"
    },
    {
     "data": {
      "image/png": "[encoded data removed]",
      "text/plain": [
       "<Figure size 432x288 with 1 Axes>"
      ]
     },
     "metadata": {},
     "output_type": "display_data"
    }
   ],
   "source": [
    "misp_scroe['year'].value_counts().sort_index().plot()"
   ]
  },
  {
   "cell_type": "code",
   "execution_count": 21,
   "metadata": {
    "ExecuteTime": {
     "end_time": "2020-10-22T19:41:46.290301Z",
     "start_time": "2020-10-22T19:41:44.365081Z"
    }
   },
   "outputs": [],
   "source": [
    "mdf5_with_score = mdf5.merge(misp_scroe, left_on=['jdate', 'permno'], right_on=['date', 'permno'], how='inner')\n",
    "mdf5_with_score['ret'] = mdf5_with_score['r_t+60']\n",
    "mdf5_with_score['ret_ct'] = mdf5_with_score['r*_t+60']-1\n",
    "mdf5_with_score['ret_chg'] = mdf5_with_score['r_chg+60']\n",
    "mdf5_with_score['avg_score'] = mdf5_with_score['avg_score']/mdf5_with_score['avg_score'].mean()"
   ]
  },
  {
   "cell_type": "code",
   "execution_count": 22,
   "metadata": {
    "ExecuteTime": {
     "end_time": "2020-10-22T19:42:25.764465Z",
     "start_time": "2020-10-22T19:41:46.823158Z"
    }
   },
   "outputs": [
    {
     "name": "stdout",
     "output_type": "stream",
     "text": [
      "3-Month Return, 5Yr-DCF\n",
      "           count      mean  std_error      tstat  std_error_nw   tstat_nw\n",
      "alpha_i_t  408.0  0.056398   0.003554  15.868035      0.005578  10.110362\n",
      "avg_score  408.0 -0.047512   0.003192 -14.885246      0.005545  -8.568370\n",
      "\n",
      "6-Month Return, 5Yr-DCF\n",
      "           count      mean  std_error      tstat  std_error_nw   tstat_nw\n",
      "alpha_i_t  408.0  0.107153   0.004772  22.455581      0.009332  11.482597\n",
      "avg_score  408.0 -0.090224   0.004920 -18.336406      0.010267  -8.787862\n",
      "\n",
      "12-Month Return, 5Yr-DCF\n",
      "           count      mean  std_error      tstat  std_error_nw   tstat_nw\n",
      "alpha_i_t  408.0  0.195311   0.006480  30.142652      0.014053  13.898628\n",
      "avg_score  408.0 -0.164310   0.007547 -21.771880      0.016988  -9.672130\n",
      "\n",
      "24-Month Return, 5Yr-DCF\n",
      "           count      mean  std_error      tstat  std_error_nw   tstat_nw\n",
      "alpha_i_t  408.0  0.363655   0.008320  43.709560      0.018887  19.254360\n",
      "avg_score  408.0 -0.305069   0.009822 -31.059423      0.022602 -13.497731\n",
      "\n",
      "36-Month Return, 5Yr-DCF\n",
      "           count      mean  std_error      tstat  std_error_nw   tstat_nw\n",
      "alpha_i_t  408.0  0.504880   0.010601  47.624661      0.024503  20.604759\n",
      "avg_score  408.0 -0.426402   0.011855 -35.967936      0.027667 -15.412001\n",
      "\n",
      "48-Month Return, 5Yr-DCF\n",
      "           count      mean  std_error      tstat  std_error_nw   tstat_nw\n",
      "alpha_i_t  408.0  0.629011   0.012446  50.540658      0.029118  21.602322\n",
      "avg_score  408.0 -0.528954   0.013594 -38.910574      0.031950 -16.555634\n",
      "\n",
      "60-Month Return, 5Yr-DCF\n",
      "           count      mean  std_error      tstat  std_error_nw   tstat_nw\n",
      "alpha_i_t  408.0  0.723335   0.013866  52.164601      0.032500  22.256374\n",
      "avg_score  408.0 -0.607238   0.014255 -42.597154      0.033492 -18.130916\n",
      "\n"
     ]
    }
   ],
   "source": [
    "for m in [3, 6, 12, 24, 36, 48, 60]:\n",
    "    mdf5_with_score['ret'] = mdf5_with_score[f'r_t+{m}'] # convert log ret to cum ret\n",
    "    regdf = mdf5_with_score[['jdate', 'permno', 'ticker', 'ret', 'avg_score']].replace([np.inf, -np.inf], np.nan).dropna()\n",
    "    print(f'{m}-Month Return, 5Yr-DCF')\n",
    "    print(fama_macbeth_reg_panel_nw(regdf, xname='avg_score'))\n",
    "    print('')"
   ]
  },
  {
   "cell_type": "code",
   "execution_count": 23,
   "metadata": {
    "ExecuteTime": {
     "end_time": "2020-10-22T19:42:47.548277Z",
     "start_time": "2020-10-22T19:42:26.288955Z"
    }
   },
   "outputs": [
    {
     "name": "stdout",
     "output_type": "stream",
     "text": [
      "misp ~ Misp Score, 5Yr-DCF\n",
      "           count      mean  std_error     tstat  std_error_nw  tstat_nw\n",
      "alpha_i_t  408.0  0.094626   0.029246  3.235519      0.069487  1.361768\n",
      "avg_score  408.0 -0.147947   0.018618 -7.946528      0.043969 -3.364807\n",
      "\n",
      "ret ~ Misp Score, 5Yr-DCF\n",
      "           count      mean  std_error      tstat  std_error_nw   tstat_nw\n",
      "alpha_i_t  408.0  0.723335   0.013866  52.164601      0.032500  22.256374\n",
      "avg_score  408.0 -0.607238   0.014255 -42.597154      0.033492 -18.130916\n",
      "\n",
      "ret_ct ~ Misp Score, 5Yr-DCF\n",
      "           count      mean  std_error      tstat  std_error_nw  tstat_nw\n",
      "alpha_i_t  408.0 -0.409408   0.036429 -11.238400      0.086289 -4.744636\n",
      "avg_score  408.0 -0.018150   0.013578  -1.336717      0.031861 -0.569655\n",
      "\n",
      "ret_chg ~ Misp Score, 5Yr-DCF\n",
      "           count      mean  std_error     tstat  std_error_nw  tstat_nw\n",
      "alpha_i_t  408.0 -0.290401   0.040415 -7.185481      0.096004 -3.024894\n",
      "avg_score  408.0  0.007714   0.017381  0.443804      0.040924  0.188487\n",
      "\n"
     ]
    }
   ],
   "source": [
    "mdf5_with_score['ret'] = mdf5_with_score['r_t+60']\n",
    "for var in ['misp', 'ret', 'ret_ct', 'ret_chg']:\n",
    "    regdf = mdf5_with_score[['jdate', 'permno', 'ticker', var, 'avg_score']].replace([np.inf, -np.inf], np.nan).dropna()\n",
    "    print(f'{var} ~ Misp Score, 5Yr-DCF')\n",
    "    print(fama_macbeth_reg_panel_nw(regdf, xname='avg_score', yname=var))\n",
    "    print('')"
   ]
  },
  {
   "cell_type": "code",
   "execution_count": 25,
   "metadata": {
    "ExecuteTime": {
     "end_time": "2020-10-22T19:43:34.408635Z",
     "start_time": "2020-10-22T19:43:23.579243Z"
    }
   },
   "outputs": [
    {
     "name": "stdout",
     "output_type": "stream",
     "text": [
      "ret ~ Misp, 5Yr-DCF\n",
      "           count      mean  std_error     tstat  std_error_nw  tstat_nw\n",
      "alpha_i_t  408.0  0.076234   0.013056  5.838810      0.030595  2.491729\n",
      "misp       408.0 -0.016966   0.003577 -4.743037      0.008424 -2.013947\n",
      "\n",
      "avg_score ~ Misp, 5Yr-DCF\n",
      "           count      mean  std_error        tstat  std_error_nw    tstat_nw\n",
      "alpha_i_t  408.0  1.001783   0.000782  1280.900530      0.001818  551.170206\n",
      "misp       408.0 -0.008354   0.000949    -8.805985      0.002232   -3.743693\n",
      "\n"
     ]
    }
   ],
   "source": [
    "mdf5_with_score['ret'] = mdf5_with_score['r_t+36']\n",
    "for var in ['ret', 'avg_score']:\n",
    "    regdf = mdf5_with_score[['jdate', 'permno', 'ticker', var, 'misp']].replace([np.inf, -np.inf], np.nan).dropna()\n",
    "    print(f'{var} ~ Misp, 5Yr-DCF')\n",
    "    print(fama_macbeth_reg_panel_nw(regdf, xname='misp', yname=var))\n",
    "    print('')"
   ]
  },
  {
   "cell_type": "code",
   "execution_count": null,
   "metadata": {},
   "outputs": [],
   "source": []
  }
 ],
 "metadata": {
  "kernelspec": {
   "display_name": "Python 3",
   "language": "python",
   "name": "python3"
  },
  "language_info": {
   "codemirror_mode": {
    "name": "ipython",
    "version": 3
   },
   "file_extension": ".py",
   "mimetype": "text/x-python",
   "name": "python",
   "nbconvert_exporter": "python",
   "pygments_lexer": "ipython3",
   "version": "3.7.7"
  },
  "toc": {
   "base_numbering": 1,
   "nav_menu": {},
   "number_sections": true,
   "sideBar": true,
   "skip_h1_title": false,
   "title_cell": "Table of Contents",
   "title_sidebar": "Contents",
   "toc_cell": false,
   "toc_position": {},
   "toc_section_display": true,
   "toc_window_display": false
  },
  "varInspector": {
   "cols": {
    "lenName": 16,
    "lenType": 16,
    "lenVar": 40
   },
   "kernels_config": {
    "python": {
     "delete_cmd_postfix": "",
     "delete_cmd_prefix": "del ",
     "library": "var_list.py",
     "varRefreshCmd": "print(var_dic_list())"
    },
    "r": {
     "delete_cmd_postfix": ") ",
     "delete_cmd_prefix": "rm(",
     "library": "var_list.r",
     "varRefreshCmd": "cat(var_dic_list()) "
    }
   },
   "types_to_exclude": [
    "module",
    "function",
    "builtin_function_or_method",
    "instance",
    "_Feature"
   ],
   "window_display": false
  }
 },
 "nbformat": 4,
 "nbformat_minor": 4
}
