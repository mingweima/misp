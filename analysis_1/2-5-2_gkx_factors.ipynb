{
 "cells": [
  {
   "cell_type": "code",
   "execution_count": 1,
   "metadata": {
    "ExecuteTime": {
     "end_time": "2020-10-20T18:00:20.813626Z",
     "start_time": "2020-10-20T18:00:20.810069Z"
    }
   },
   "outputs": [],
   "source": [
    "import sys\n",
    "import os\n",
    "module_path = os.path.abspath(os.path.join('..'))\n",
    "if module_path not in sys.path:\n",
    "    sys.path.append(module_path)\n",
    "    \n",
    "from global_import import *\n",
    "from fm import fama_macbeth_reg_panel_nw"
   ]
  },
  {
   "cell_type": "code",
   "execution_count": 2,
   "metadata": {
    "ExecuteTime": {
     "end_time": "2020-10-20T18:01:10.845473Z",
     "start_time": "2020-10-20T18:00:24.889387Z"
    }
   },
   "outputs": [],
   "source": [
    "gkx = pd.read_csv(f'{DATA_FOLDER}/gkx_mlfactors.csv')"
   ]
  },
  {
   "cell_type": "code",
   "execution_count": 3,
   "metadata": {
    "ExecuteTime": {
     "end_time": "2020-10-20T18:01:13.147036Z",
     "start_time": "2020-10-20T18:01:11.003610Z"
    }
   },
   "outputs": [],
   "source": [
    "gkx['date']=pd.to_datetime(gkx['DATE'], format='%Y%m%d')+MonthEnd(0)"
   ]
  },
  {
   "cell_type": "code",
   "execution_count": 10,
   "metadata": {
    "ExecuteTime": {
     "end_time": "2020-10-20T18:03:00.358351Z",
     "start_time": "2020-10-20T18:02:40.160296Z"
    }
   },
   "outputs": [],
   "source": [
    "ret_decomp_dcf5 = pd.read_csv(f'{DATA_FOLDER}/decomp_dcf5y_PLS_1980_2019.csv', index_col=0)\n",
    "ret_decomp_dcf5['jdate'] = pd.to_datetime(ret_decomp_dcf5.jdate)\n",
    "ret_decomp_dcf5 = ret_decomp_dcf5.replace([np.inf, -np.inf], np.nan)"
   ]
  },
  {
   "cell_type": "code",
   "execution_count": 11,
   "metadata": {
    "ExecuteTime": {
     "end_time": "2020-10-20T18:03:01.697639Z",
     "start_time": "2020-10-20T18:03:00.622408Z"
    }
   },
   "outputs": [
    {
     "data": {
      "text/html": [
       "<div>\n",
       "<style scoped>\n",
       "    .dataframe tbody tr th:only-of-type {\n",
       "        vertical-align: middle;\n",
       "    }\n",
       "\n",
       "    .dataframe tbody tr th {\n",
       "        vertical-align: top;\n",
       "    }\n",
       "\n",
       "    .dataframe thead th {\n",
       "        text-align: right;\n",
       "    }\n",
       "</style>\n",
       "<table border=\"1\" class=\"dataframe\">\n",
       "  <thead>\n",
       "    <tr style=\"text-align: right;\">\n",
       "      <th></th>\n",
       "      <th>r_t+60</th>\n",
       "      <th>r*_t+60</th>\n",
       "      <th>r_chg+60</th>\n",
       "      <th>r_unchg+60</th>\n",
       "      <th>error_60</th>\n",
       "    </tr>\n",
       "  </thead>\n",
       "  <tbody>\n",
       "    <tr>\n",
       "      <th>count</th>\n",
       "      <td>1.251811e+06</td>\n",
       "      <td>632273.000000</td>\n",
       "      <td>632106.000000</td>\n",
       "      <td>1.251539e+06</td>\n",
       "      <td>632104.000000</td>\n",
       "    </tr>\n",
       "    <tr>\n",
       "      <th>mean</th>\n",
       "      <td>-1.874065e-02</td>\n",
       "      <td>0.519025</td>\n",
       "      <td>-0.166237</td>\n",
       "      <td>3.499541e-02</td>\n",
       "      <td>-0.032174</td>\n",
       "    </tr>\n",
       "    <tr>\n",
       "      <th>std</th>\n",
       "      <td>1.111623e+00</td>\n",
       "      <td>1.368797</td>\n",
       "      <td>1.527590</td>\n",
       "      <td>5.136348e-02</td>\n",
       "      <td>0.536504</td>\n",
       "    </tr>\n",
       "    <tr>\n",
       "      <th>min</th>\n",
       "      <td>-1.874448e+01</td>\n",
       "      <td>-9.438013</td>\n",
       "      <td>-12.349693</td>\n",
       "      <td>-2.602439e-01</td>\n",
       "      <td>-16.716173</td>\n",
       "    </tr>\n",
       "    <tr>\n",
       "      <th>25%</th>\n",
       "      <td>-4.166773e-01</td>\n",
       "      <td>-0.197280</td>\n",
       "      <td>-1.002409</td>\n",
       "      <td>-1.083967e-03</td>\n",
       "      <td>-0.152535</td>\n",
       "    </tr>\n",
       "    <tr>\n",
       "      <th>50%</th>\n",
       "      <td>1.168368e-01</td>\n",
       "      <td>0.516434</td>\n",
       "      <td>-0.141979</td>\n",
       "      <td>2.877244e-02</td>\n",
       "      <td>0.035595</td>\n",
       "    </tr>\n",
       "    <tr>\n",
       "      <th>75%</th>\n",
       "      <td>6.282922e-01</td>\n",
       "      <td>1.232840</td>\n",
       "      <td>0.683163</td>\n",
       "      <td>6.710830e-02</td>\n",
       "      <td>0.187090</td>\n",
       "    </tr>\n",
       "    <tr>\n",
       "      <th>max</th>\n",
       "      <td>5.813533e+00</td>\n",
       "      <td>12.818337</td>\n",
       "      <td>12.004779</td>\n",
       "      <td>4.433868e-01</td>\n",
       "      <td>10.123112</td>\n",
       "    </tr>\n",
       "  </tbody>\n",
       "</table>\n",
       "</div>"
      ],
      "text/plain": [
       "             r_t+60        r*_t+60       r_chg+60    r_unchg+60       error_60\n",
       "count  1.251811e+06  632273.000000  632106.000000  1.251539e+06  632104.000000\n",
       "mean  -1.874065e-02       0.519025      -0.166237  3.499541e-02      -0.032174\n",
       "std    1.111623e+00       1.368797       1.527590  5.136348e-02       0.536504\n",
       "min   -1.874448e+01      -9.438013     -12.349693 -2.602439e-01     -16.716173\n",
       "25%   -4.166773e-01      -0.197280      -1.002409 -1.083967e-03      -0.152535\n",
       "50%    1.168368e-01       0.516434      -0.141979  2.877244e-02       0.035595\n",
       "75%    6.282922e-01       1.232840       0.683163  6.710830e-02       0.187090\n",
       "max    5.813533e+00      12.818337      12.004779  4.433868e-01      10.123112"
      ]
     },
     "execution_count": 11,
     "metadata": {},
     "output_type": "execute_result"
    }
   ],
   "source": [
    "ret_decomp_dcf5['error_60'] = ret_decomp_dcf5['r_t+60'] - ret_decomp_dcf5['r*_t+60'] - ret_decomp_dcf5['r_chg+60']  - ret_decomp_dcf5['r_unchg+60'] \n",
    "ret_decomp_dcf5[['r_t+60', 'r*_t+60', 'r_chg+60', 'r_unchg+60', 'error_60']].describe()"
   ]
  },
  {
   "cell_type": "code",
   "execution_count": 12,
   "metadata": {
    "ExecuteTime": {
     "end_time": "2020-10-20T18:03:04.816497Z",
     "start_time": "2020-10-20T18:03:01.955881Z"
    }
   },
   "outputs": [],
   "source": [
    "mdf5 = gkx.merge(ret_decomp_dcf5, left_on=['date', 'permno'], \n",
    "                 right_on=['jdate', 'permno'], how='inner')"
   ]
  },
  {
   "cell_type": "code",
   "execution_count": 13,
   "metadata": {
    "ExecuteTime": {
     "end_time": "2020-10-20T18:03:05.306941Z",
     "start_time": "2020-10-20T18:03:05.302580Z"
    }
   },
   "outputs": [],
   "source": [
    "vals = [\n",
    " 'mvel1',\n",
    " 'beta',\n",
    " 'idiovol',\n",
    " 'indmom',\n",
    " 'mom1m',\n",
    " 'mom6m',\n",
    " 'mom12m',\n",
    " 'mom36m',\n",
    " 'pricedelay',\n",
    " 'age',\n",
    " 'agr',\n",
    " 'bm',\n",
    " 'bm_ia',\n",
    " 'cashpr',\n",
    " 'cfp',\n",
    " 'cfp_ia',\n",
    " 'chatoia',\n",
    " 'chcsho',\n",
    " 'depr',\n",
    " 'divi',\n",
    " 'egr',\n",
    " 'ep',\n",
    " 'grcapx',\n",
    " 'hire',\n",
    " 'invest',\n",
    " 'lev',\n",
    " 'mve_ia',\n",
    " 'orgcap',\n",
    " 'pchcurrat',\n",
    " 'pchdepr',\n",
    " 'pctacc',\n",
    " 'quick',\n",
    " 'rd',\n",
    " 'rd_mve',\n",
    " 'roic',\n",
    " 'secured',\n",
    " 'sp',\n",
    " 'tang',\n",
    " 'tb',\n",
    " 'cash',\n",
    " 'chtx',\n",
    " 'cinvest',\n",
    " 'nincr',\n",
    " 'roaq',\n",
    " 'roavol',\n",
    " 'roeq',\n",
    " 'rsup',\n",
    " 'ms',\n",
    " 'ill',\n",
    " 'std_turn',]"
   ]
  },
  {
   "cell_type": "code",
   "execution_count": 14,
   "metadata": {
    "ExecuteTime": {
     "end_time": "2020-10-20T18:03:05.817174Z",
     "start_time": "2020-10-20T18:03:05.786353Z"
    }
   },
   "outputs": [],
   "source": [
    "mdf5['ret'] = np.exp(mdf5['r_t+60'])-1\n",
    "mdf5['ret_ct'] = np.exp(mdf5['r*_t+60']-1)\n",
    "mdf5['ret_chg'] = np.exp(mdf5['r_chg+60'])"
   ]
  },
  {
   "cell_type": "code",
   "execution_count": 16,
   "metadata": {
    "ExecuteTime": {
     "end_time": "2020-10-20T18:09:28.569914Z",
     "start_time": "2020-10-20T18:03:19.833850Z"
    }
   },
   "outputs": [
    {
     "name": "stdout",
     "output_type": "stream",
     "text": [
      "Ret ~ mvel1, 5Yr-DCF\n",
      "Ret ~ beta, 5Yr-DCF\n",
      "Ret ~ idiovol, 5Yr-DCF\n",
      "Ret ~ indmom, 5Yr-DCF\n",
      "Ret ~ mom1m, 5Yr-DCF\n",
      "Ret ~ mom6m, 5Yr-DCF\n",
      "Ret ~ mom12m, 5Yr-DCF\n",
      "Ret ~ mom36m, 5Yr-DCF\n",
      "Ret ~ pricedelay, 5Yr-DCF\n",
      "Ret ~ age, 5Yr-DCF\n",
      "Ret ~ agr, 5Yr-DCF\n",
      "Ret ~ bm, 5Yr-DCF\n",
      "Ret ~ bm_ia, 5Yr-DCF\n",
      "Ret ~ cashpr, 5Yr-DCF\n",
      "Ret ~ cfp, 5Yr-DCF\n",
      "Ret ~ cfp_ia, 5Yr-DCF\n",
      "Ret ~ chatoia, 5Yr-DCF\n",
      "Ret ~ chcsho, 5Yr-DCF\n",
      "Ret ~ depr, 5Yr-DCF\n",
      "Ret ~ divi, 5Yr-DCF\n",
      "Ret ~ egr, 5Yr-DCF\n",
      "Ret ~ ep, 5Yr-DCF\n",
      "Ret ~ grcapx, 5Yr-DCF\n",
      "Ret ~ hire, 5Yr-DCF\n",
      "Ret ~ invest, 5Yr-DCF\n",
      "Ret ~ lev, 5Yr-DCF\n",
      "Ret ~ mve_ia, 5Yr-DCF\n",
      "Ret ~ orgcap, 5Yr-DCF\n",
      "Ret ~ pchcurrat, 5Yr-DCF\n",
      "Ret ~ pchdepr, 5Yr-DCF\n",
      "Ret ~ pctacc, 5Yr-DCF\n",
      "Ret ~ quick, 5Yr-DCF\n",
      "Ret ~ rd, 5Yr-DCF\n",
      "Ret ~ rd_mve, 5Yr-DCF\n",
      "Ret ~ roic, 5Yr-DCF\n",
      "Ret ~ secured, 5Yr-DCF\n",
      "Ret ~ sp, 5Yr-DCF\n",
      "Ret ~ tang, 5Yr-DCF\n",
      "Ret ~ tb, 5Yr-DCF\n",
      "Ret ~ cash, 5Yr-DCF\n",
      "Ret ~ chtx, 5Yr-DCF\n",
      "Ret ~ cinvest, 5Yr-DCF\n",
      "Ret ~ nincr, 5Yr-DCF\n",
      "Ret ~ roaq, 5Yr-DCF\n",
      "Ret ~ roavol, 5Yr-DCF\n",
      "Ret ~ roeq, 5Yr-DCF\n",
      "Ret ~ rsup, 5Yr-DCF\n",
      "Ret ~ ms, 5Yr-DCF\n",
      "Ret ~ ill, 5Yr-DCF\n",
      "Ret ~ std_turn, 5Yr-DCF\n"
     ]
    }
   ],
   "source": [
    "res = []\n",
    "for var in vals:\n",
    "    regdf = mdf5[['jdate', 'permno', 'ticker', 'ret', var]].replace([np.inf, -np.inf], np.nan).dropna()\n",
    "    print(f'Ret ~ {var}, 5Yr-DCF')\n",
    "    results = fama_macbeth_reg_panel_nw(regdf, xname=var, yname='ret')\n",
    "#     print(results)\n",
    "    res.append(results)\n",
    "#     print('')"
   ]
  },
  {
   "cell_type": "code",
   "execution_count": 20,
   "metadata": {
    "ExecuteTime": {
     "end_time": "2020-10-20T18:12:14.124648Z",
     "start_time": "2020-10-20T18:12:14.112017Z"
    }
   },
   "outputs": [],
   "source": [
    "res_df  = pd.concat(res)\n",
    "res_df = res_df[res_df.index != 'alpha_i_t']"
   ]
  },
  {
   "cell_type": "code",
   "execution_count": 21,
   "metadata": {
    "ExecuteTime": {
     "end_time": "2020-10-20T18:12:14.982418Z",
     "start_time": "2020-10-20T18:12:14.971122Z"
    }
   },
   "outputs": [
    {
     "data": {
      "text/html": [
       "<div>\n",
       "<style scoped>\n",
       "    .dataframe tbody tr th:only-of-type {\n",
       "        vertical-align: middle;\n",
       "    }\n",
       "\n",
       "    .dataframe tbody tr th {\n",
       "        vertical-align: top;\n",
       "    }\n",
       "\n",
       "    .dataframe thead th {\n",
       "        text-align: right;\n",
       "    }\n",
       "</style>\n",
       "<table border=\"1\" class=\"dataframe\">\n",
       "  <thead>\n",
       "    <tr style=\"text-align: right;\">\n",
       "      <th></th>\n",
       "      <th>count</th>\n",
       "      <th>mean</th>\n",
       "      <th>std_error</th>\n",
       "      <th>tstat</th>\n",
       "      <th>std_error_nw</th>\n",
       "      <th>tstat_nw</th>\n",
       "    </tr>\n",
       "  </thead>\n",
       "  <tbody>\n",
       "    <tr>\n",
       "      <th>mvel1</th>\n",
       "      <td>444.0</td>\n",
       "      <td>7.930238e-09</td>\n",
       "      <td>4.882133e-09</td>\n",
       "      <td>1.624339</td>\n",
       "      <td>1.155778e-08</td>\n",
       "      <td>0.686139</td>\n",
       "    </tr>\n",
       "    <tr>\n",
       "      <th>beta</th>\n",
       "      <td>444.0</td>\n",
       "      <td>-1.512155e-01</td>\n",
       "      <td>1.552241e-02</td>\n",
       "      <td>-9.741752</td>\n",
       "      <td>3.623349e-02</td>\n",
       "      <td>-4.173363</td>\n",
       "    </tr>\n",
       "    <tr>\n",
       "      <th>idiovol</th>\n",
       "      <td>444.0</td>\n",
       "      <td>-4.312743e+00</td>\n",
       "      <td>2.204843e-01</td>\n",
       "      <td>-19.560314</td>\n",
       "      <td>5.104717e-01</td>\n",
       "      <td>-8.448545</td>\n",
       "    </tr>\n",
       "    <tr>\n",
       "      <th>indmom</th>\n",
       "      <td>444.0</td>\n",
       "      <td>1.433861e-01</td>\n",
       "      <td>5.430953e-02</td>\n",
       "      <td>2.640165</td>\n",
       "      <td>1.214449e-01</td>\n",
       "      <td>1.180668</td>\n",
       "    </tr>\n",
       "    <tr>\n",
       "      <th>mom1m</th>\n",
       "      <td>444.0</td>\n",
       "      <td>1.380587e-01</td>\n",
       "      <td>4.268855e-02</td>\n",
       "      <td>3.234092</td>\n",
       "      <td>6.725468e-02</td>\n",
       "      <td>2.052775</td>\n",
       "    </tr>\n",
       "  </tbody>\n",
       "</table>\n",
       "</div>"
      ],
      "text/plain": [
       "         count          mean     std_error      tstat  std_error_nw  tstat_nw\n",
       "mvel1    444.0  7.930238e-09  4.882133e-09   1.624339  1.155778e-08  0.686139\n",
       "beta     444.0 -1.512155e-01  1.552241e-02  -9.741752  3.623349e-02 -4.173363\n",
       "idiovol  444.0 -4.312743e+00  2.204843e-01 -19.560314  5.104717e-01 -8.448545\n",
       "indmom   444.0  1.433861e-01  5.430953e-02   2.640165  1.214449e-01  1.180668\n",
       "mom1m    444.0  1.380587e-01  4.268855e-02   3.234092  6.725468e-02  2.052775"
      ]
     },
     "execution_count": 21,
     "metadata": {},
     "output_type": "execute_result"
    }
   ],
   "source": [
    "res_df.head()"
   ]
  },
  {
   "cell_type": "code",
   "execution_count": null,
   "metadata": {
    "ExecuteTime": {
     "start_time": "2020-10-20T18:13:01.427Z"
    }
   },
   "outputs": [
    {
     "name": "stdout",
     "output_type": "stream",
     "text": [
      "mvel1, retct\n",
      "beta, retct\n",
      "idiovol, retct\n",
      "indmom, retct\n",
      "mom1m, retct\n",
      "mom6m, retct\n",
      "mom12m, retct\n"
     ]
    }
   ],
   "source": [
    "res_ct = []\n",
    "for var in vals:\n",
    "    regdf = mdf5[['jdate', 'permno', 'ticker', 'ret_ct', var]].replace([np.inf, -np.inf], np.nan).dropna()\n",
    "    print(f'{var}, retct')\n",
    "    results = fama_macbeth_reg_panel_nw(regdf, xname=var, yname='ret_ct')\n",
    "#     print(results)\n",
    "    res_ct.append(results)\n",
    "#     print('')"
   ]
  },
  {
   "cell_type": "code",
   "execution_count": null,
   "metadata": {
    "ExecuteTime": {
     "start_time": "2020-10-20T18:13:03.815Z"
    }
   },
   "outputs": [],
   "source": [
    "res_ct_df  = pd.concat(res_ct)\n",
    "res_ct_df = res_ct_df[res_ct_df.index != 'alpha_i_t']\n",
    "res_ct_df.head()"
   ]
  },
  {
   "cell_type": "code",
   "execution_count": null,
   "metadata": {
    "ExecuteTime": {
     "start_time": "2020-10-20T18:13:05.900Z"
    }
   },
   "outputs": [],
   "source": [
    "res_chg = []\n",
    "for var in vals:\n",
    "    regdf = mdf5[['jdate', 'permno', 'ticker', 'ret_chg', var]].replace([np.inf, -np.inf], np.nan).dropna()\n",
    "    print(f'{var}, retchg')\n",
    "    results = fama_macbeth_reg_panel_nw(regdf, xname=var, yname='ret_chg')\n",
    "#     print(results)\n",
    "    res_chg.append(results)\n",
    "#     print('')"
   ]
  },
  {
   "cell_type": "code",
   "execution_count": null,
   "metadata": {
    "ExecuteTime": {
     "start_time": "2020-10-20T18:13:21.079Z"
    }
   },
   "outputs": [],
   "source": [
    "res_chg_df  = pd.concat(res_chg)"
   ]
  },
  {
   "cell_type": "code",
   "execution_count": null,
   "metadata": {
    "ExecuteTime": {
     "start_time": "2020-10-20T18:13:21.217Z"
    }
   },
   "outputs": [],
   "source": [
    "res_chg_df = res_chg_df[res_chg_df.index != 'alpha_i_t']\n",
    "res_chg_df.head()"
   ]
  },
  {
   "cell_type": "code",
   "execution_count": null,
   "metadata": {
    "ExecuteTime": {
     "start_time": "2020-10-20T18:13:21.369Z"
    }
   },
   "outputs": [],
   "source": [
    "res_df = res_df.rename(columns={\"mean\":\"mean_ret\", \"std_error\":\"std_error_ret\",  \"tstat\":\"tstat_ret\",\n",
    "                               \"std_error_nw\":\"std_error_nw_ret\",  \"tstat_nw\":\"tstat_nw_ret\"})\n",
    "res_ct_df = res_ct_df.rename(columns={\"mean\":\"mean_ct\", \"std_error\":\"std_error_ct\",  \"tstat\":\"tstat_ct\",\n",
    "                                     \"std_error_nw\":\"std_error_nw_ct\",  \"tstat_nw\":\"tstat_nw_ct\"})\n",
    "res_chg_df = res_chg_df.rename(columns={\"mean\":\"mean_chg\", \"std_error\":\"std_error_chg\",  \"tstat\":\"tstat_chg\",\n",
    "                                       \"std_error_nw\":\"std_error_nw_chg\",  \"tstat_nw\":\"tstat_nw_chg\"})"
   ]
  },
  {
   "cell_type": "code",
   "execution_count": null,
   "metadata": {
    "ExecuteTime": {
     "start_time": "2020-10-20T18:13:22.465Z"
    }
   },
   "outputs": [],
   "source": [
    "res_df = res_df[[\"mean_ret\", \"std_error_nw_ret\", \"tstat_nw_ret\"]]\n",
    "res_ct_df = res_ct_df[[\"mean_ct\", \"std_error_nw_ct\", \"tstat_nw_ct\"]]\n",
    "res_chg_df = res_chg_df[[\"mean_chg\", \"std_error_nw_chg\", \"tstat_nw_chg\"]]"
   ]
  },
  {
   "cell_type": "code",
   "execution_count": null,
   "metadata": {
    "ExecuteTime": {
     "start_time": "2020-10-20T18:13:22.586Z"
    }
   },
   "outputs": [],
   "source": [
    "mm1 = res_df.merge(res_ct_df, left_index=True, right_index=True)\n",
    "mm2 = mm1.merge(res_chg_df, left_index=True, right_index=True)"
   ]
  },
  {
   "cell_type": "code",
   "execution_count": null,
   "metadata": {
    "ExecuteTime": {
     "start_time": "2020-10-20T18:13:23.189Z"
    }
   },
   "outputs": [],
   "source": [
    "mm2.head()"
   ]
  },
  {
   "cell_type": "code",
   "execution_count": null,
   "metadata": {
    "ExecuteTime": {
     "start_time": "2020-10-20T18:13:23.733Z"
    }
   },
   "outputs": [],
   "source": [
    "mm2.to_csv('gkx_on_decomp_dcf5y_PLS_1970_2019.csv')"
   ]
  },
  {
   "cell_type": "code",
   "execution_count": null,
   "metadata": {},
   "outputs": [],
   "source": []
  }
 ],
 "metadata": {
  "kernelspec": {
   "display_name": "Python 3",
   "language": "python",
   "name": "python3"
  },
  "language_info": {
   "codemirror_mode": {
    "name": "ipython",
    "version": 3
   },
   "file_extension": ".py",
   "mimetype": "text/x-python",
   "name": "python",
   "nbconvert_exporter": "python",
   "pygments_lexer": "ipython3",
   "version": "3.7.7"
  },
  "toc": {
   "base_numbering": 1,
   "nav_menu": {},
   "number_sections": true,
   "sideBar": true,
   "skip_h1_title": false,
   "title_cell": "Table of Contents",
   "title_sidebar": "Contents",
   "toc_cell": false,
   "toc_position": {},
   "toc_section_display": true,
   "toc_window_display": false
  },
  "varInspector": {
   "cols": {
    "lenName": 16,
    "lenType": 16,
    "lenVar": 40
   },
   "kernels_config": {
    "python": {
     "delete_cmd_postfix": "",
     "delete_cmd_prefix": "del ",
     "library": "var_list.py",
     "varRefreshCmd": "print(var_dic_list())"
    },
    "r": {
     "delete_cmd_postfix": ") ",
     "delete_cmd_prefix": "rm(",
     "library": "var_list.r",
     "varRefreshCmd": "cat(var_dic_list()) "
    }
   },
   "types_to_exclude": [
    "module",
    "function",
    "builtin_function_or_method",
    "instance",
    "_Feature"
   ],
   "window_display": false
  }
 },
 "nbformat": 4,
 "nbformat_minor": 4
}
