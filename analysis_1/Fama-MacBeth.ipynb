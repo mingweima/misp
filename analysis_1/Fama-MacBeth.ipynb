{
 "cells": [
  {
   "cell_type": "code",
   "execution_count": 1,
   "metadata": {
    "ExecuteTime": {
     "end_time": "2020-10-20T13:21:18.693300Z",
     "start_time": "2020-10-20T13:21:17.510183Z"
    }
   },
   "outputs": [],
   "source": [
    "import sys\n",
    "import os\n",
    "module_path = os.path.abspath(os.path.join('..'))\n",
    "if module_path not in sys.path:\n",
    "    sys.path.append(module_path)\n",
    "    \n",
    "from global_import import *\n",
    "from valuation.val import perform_valuation"
   ]
  },
  {
   "cell_type": "code",
   "execution_count": 2,
   "metadata": {
    "ExecuteTime": {
     "end_time": "2020-10-20T13:26:39.086332Z",
     "start_time": "2020-10-20T13:26:19.681448Z"
    }
   },
   "outputs": [
    {
     "name": "stderr",
     "output_type": "stream",
     "text": [
      "/Users/mmw/Installations/venvs/mlval/lib/python3.7/site-packages/numpy/lib/arraysetops.py:580: FutureWarning: elementwise comparison failed; returning scalar instead, but in the future will perform elementwise comparison\n",
      "  mask |= (ar1 == a)\n"
     ]
    }
   ],
   "source": [
    "ret_decomp_dcf5 = \\\n",
    "          pd.read_csv(f'{DATA_FOLDER}/decomp_dcf5y_PLS_1980_2019.csv', index_col=0).replace([np.inf, -np.inf], np.nan)\n",
    "ret_decomp_dcf5['jdate'] = pd.to_datetime(ret_decomp_dcf5.jdate)\n",
    "\n",
    "ret_decomp_dcf5_annual = ret_decomp_dcf5[ret_decomp_dcf5.jdate.dt.month==6]\n",
    "\n",
    "regdf = ret_decomp_dcf5_annual[['jdate', 'permno', 'ticker', 'me', 'misp']].replace([np.inf, -np.inf], np.nan).dropna()\n"
   ]
  },
  {
   "cell_type": "code",
   "execution_count": 44,
   "metadata": {
    "ExecuteTime": {
     "end_time": "2020-10-20T14:01:56.796407Z",
     "start_time": "2020-10-20T14:01:51.521937Z"
    }
   },
   "outputs": [],
   "source": [
    "regdf = ret_decomp_dcf5[['jdate', 'permno', 'ticker', 'me', 'misp']].replace([np.inf, -np.inf], np.nan).dropna()\n"
   ]
  },
  {
   "cell_type": "code",
   "execution_count": 54,
   "metadata": {
    "ExecuteTime": {
     "end_time": "2020-10-20T14:28:37.179893Z",
     "start_time": "2020-10-20T14:28:37.169698Z"
    }
   },
   "outputs": [],
   "source": [
    "def fama_macbeth_summary(p):\n",
    "    s = p.describe().T\n",
    "    s['std_error'] = s['std']/np.sqrt(s['count'])\n",
    "    s['tstat'] = s['mean']/s['std_error']\n",
    "    return s[['count', 'mean','std_error','tstat',]]\n",
    "\n",
    "def ts_nw(xt):\n",
    "    e = xt - np.mean(xt)\n",
    "    T = e.shape[0]\n",
    "    print(T)\n",
    "    L = int(4*(T/100)**(2/9))\n",
    "    w = 0\n",
    "    for l in range(1, L+1):\n",
    "        wl = 1-(l/(1+L))\n",
    "        for t in range(l+1, T+1):\n",
    "            w+= 2* wl * e[t-1] * e[t-l-1]\n",
    "    print('w', w, 's', np.sum(e**2))\n",
    "    S = w + np.sum(e**2)\n",
    "    return np.sqrt(S)/T\n",
    "\n",
    "def fama_macbeth_reg_panel_nw(regdf, xname='misp', yname='ret', \n",
    "                               csname='permno', tsname='jdate'): \n",
    "    # Panel factor setting FM reg\n",
    "    gamma_cs = (regdf.groupby(tsname).apply(ols_coef, f'{yname} ~ {xname}'))\n",
    "    gamma_cs = gamma_cs.rename(columns={\"Intercept\": \"alpha_i_t\", f\"beta_{xname}\": \"lamba_t\"})\n",
    "    summary = fama_macbeth_summary(gamma_cs)\n",
    "    nw_std_error_alpha = ts_nw(np.array(gamma_cs['alpha_i_t']))\n",
    "    nw_std_error_beta = ts_nw(np.array(gamma_cs[xname]))\n",
    "    summary['std_error_nw'] = np.array([nw_std_error_alpha, nw_std_error_beta])\n",
    "    summary['tstat_nw'] = summary['mean'] / np.array([nw_std_error_alpha, nw_std_error_beta])\n",
    "    return summary"
   ]
  },
  {
   "cell_type": "code",
   "execution_count": 55,
   "metadata": {
    "ExecuteTime": {
     "end_time": "2020-10-20T14:28:41.539745Z",
     "start_time": "2020-10-20T14:28:37.640373Z"
    }
   },
   "outputs": [
    {
     "name": "stdout",
     "output_type": "stream",
     "text": [
      "480\n",
      "w 2998.431467778709 s 617.69651939349\n",
      "480\n",
      "w 30.566622696237243 s 6.206065285073938\n"
     ]
    },
    {
     "data": {
      "text/html": [
       "<div>\n",
       "<style scoped>\n",
       "    .dataframe tbody tr th:only-of-type {\n",
       "        vertical-align: middle;\n",
       "    }\n",
       "\n",
       "    .dataframe tbody tr th {\n",
       "        vertical-align: top;\n",
       "    }\n",
       "\n",
       "    .dataframe thead th {\n",
       "        text-align: right;\n",
       "    }\n",
       "</style>\n",
       "<table border=\"1\" class=\"dataframe\">\n",
       "  <thead>\n",
       "    <tr style=\"text-align: right;\">\n",
       "      <th></th>\n",
       "      <th>count</th>\n",
       "      <th>mean</th>\n",
       "      <th>std_error</th>\n",
       "      <th>tstat</th>\n",
       "      <th>std_error_nw</th>\n",
       "      <th>tstat_nw</th>\n",
       "    </tr>\n",
       "  </thead>\n",
       "  <tbody>\n",
       "    <tr>\n",
       "      <th>alpha_i_t</th>\n",
       "      <td>480.0</td>\n",
       "      <td>-9.433830</td>\n",
       "      <td>0.051832</td>\n",
       "      <td>-182.007308</td>\n",
       "      <td>0.125280</td>\n",
       "      <td>-75.302149</td>\n",
       "    </tr>\n",
       "    <tr>\n",
       "      <th>me</th>\n",
       "      <td>480.0</td>\n",
       "      <td>0.643487</td>\n",
       "      <td>0.005195</td>\n",
       "      <td>123.856743</td>\n",
       "      <td>0.012633</td>\n",
       "      <td>50.935198</td>\n",
       "    </tr>\n",
       "  </tbody>\n",
       "</table>\n",
       "</div>"
      ],
      "text/plain": [
       "           count      mean  std_error       tstat  std_error_nw   tstat_nw\n",
       "alpha_i_t  480.0 -9.433830   0.051832 -182.007308      0.125280 -75.302149\n",
       "me         480.0  0.643487   0.005195  123.856743      0.012633  50.935198"
      ]
     },
     "execution_count": 55,
     "metadata": {},
     "output_type": "execute_result"
    }
   ],
   "source": [
    "fama_macbeth_reg_panel_nw(regdf, xname='me', yname='misp', \n",
    "                                 csname='permno', tsname='jdate')"
   ]
  },
  {
   "cell_type": "code",
   "execution_count": null,
   "metadata": {},
   "outputs": [],
   "source": []
  }
 ],
 "metadata": {
  "kernelspec": {
   "display_name": "Python 3",
   "language": "python",
   "name": "python3"
  },
  "language_info": {
   "codemirror_mode": {
    "name": "ipython",
    "version": 3
   },
   "file_extension": ".py",
   "mimetype": "text/x-python",
   "name": "python",
   "nbconvert_exporter": "python",
   "pygments_lexer": "ipython3",
   "version": "3.7.7"
  },
  "toc": {
   "base_numbering": 1,
   "nav_menu": {},
   "number_sections": true,
   "sideBar": true,
   "skip_h1_title": false,
   "title_cell": "Table of Contents",
   "title_sidebar": "Contents",
   "toc_cell": false,
   "toc_position": {},
   "toc_section_display": true,
   "toc_window_display": false
  },
  "varInspector": {
   "cols": {
    "lenName": 16,
    "lenType": 16,
    "lenVar": 40
   },
   "kernels_config": {
    "python": {
     "delete_cmd_postfix": "",
     "delete_cmd_prefix": "del ",
     "library": "var_list.py",
     "varRefreshCmd": "print(var_dic_list())"
    },
    "r": {
     "delete_cmd_postfix": ") ",
     "delete_cmd_prefix": "rm(",
     "library": "var_list.r",
     "varRefreshCmd": "cat(var_dic_list()) "
    }
   },
   "types_to_exclude": [
    "module",
    "function",
    "builtin_function_or_method",
    "instance",
    "_Feature"
   ],
   "window_display": false
  }
 },
 "nbformat": 4,
 "nbformat_minor": 4
}
