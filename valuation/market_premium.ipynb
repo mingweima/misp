{
 "cells": [
  {
   "cell_type": "code",
   "execution_count": 1,
   "metadata": {
    "ExecuteTime": {
     "end_time": "2020-10-19T10:15:40.135706Z",
     "start_time": "2020-10-19T10:15:39.108607Z"
    }
   },
   "outputs": [],
   "source": [
    "import sys\n",
    "import os\n",
    "module_path = os.path.abspath(os.path.join('..'))\n",
    "if module_path not in sys.path:\n",
    "    sys.path.append(module_path)\n",
    "from global_import import *"
   ]
  },
  {
   "cell_type": "code",
   "execution_count": 125,
   "metadata": {
    "ExecuteTime": {
     "end_time": "2020-10-19T10:39:38.698331Z",
     "start_time": "2020-10-19T10:39:38.646433Z"
    }
   },
   "outputs": [],
   "source": [
    "FF = pd.read_csv(f'{PROJECT_FOLDER}/lookup_tables/FF3.csv')\n",
    "FF['date'] = FF['Unnamed: 0']\n",
    "FF['date'] = pd.to_datetime(FF['date'].astype(str), format='%Y%m%d')\n",
    "FF['jdate'] = FF['date']+MonthEnd(0)\n",
    "FF = FF[['jdate', 'date', 'RF']]"
   ]
  },
  {
   "cell_type": "code",
   "execution_count": 126,
   "metadata": {
    "ExecuteTime": {
     "end_time": "2020-10-19T10:39:38.808539Z",
     "start_time": "2020-10-19T10:39:38.773781Z"
    }
   },
   "outputs": [],
   "source": [
    "sp500 = pd.read_csv(f'{PROJECT_FOLDER}/lookup_tables/sp500.csv')\n",
    "sp500['date'] = pd.to_datetime(sp500['Date'])"
   ]
  },
  {
   "cell_type": "code",
   "execution_count": 127,
   "metadata": {
    "ExecuteTime": {
     "end_time": "2020-10-19T10:39:38.943327Z",
     "start_time": "2020-10-19T10:39:38.931204Z"
    }
   },
   "outputs": [
    {
     "data": {
      "text/html": [
       "<div>\n",
       "<style scoped>\n",
       "    .dataframe tbody tr th:only-of-type {\n",
       "        vertical-align: middle;\n",
       "    }\n",
       "\n",
       "    .dataframe tbody tr th {\n",
       "        vertical-align: top;\n",
       "    }\n",
       "\n",
       "    .dataframe thead th {\n",
       "        text-align: right;\n",
       "    }\n",
       "</style>\n",
       "<table border=\"1\" class=\"dataframe\">\n",
       "  <thead>\n",
       "    <tr style=\"text-align: right;\">\n",
       "      <th></th>\n",
       "      <th>Date</th>\n",
       "      <th>Open</th>\n",
       "      <th>High</th>\n",
       "      <th>Low</th>\n",
       "      <th>Close</th>\n",
       "      <th>Adj Close</th>\n",
       "      <th>Volume</th>\n",
       "      <th>date</th>\n",
       "    </tr>\n",
       "  </thead>\n",
       "  <tbody>\n",
       "    <tr>\n",
       "      <th>0</th>\n",
       "      <td>1927-12-30</td>\n",
       "      <td>17.660000</td>\n",
       "      <td>17.660000</td>\n",
       "      <td>17.660000</td>\n",
       "      <td>17.660000</td>\n",
       "      <td>17.660000</td>\n",
       "      <td>0</td>\n",
       "      <td>1927-12-30</td>\n",
       "    </tr>\n",
       "    <tr>\n",
       "      <th>1</th>\n",
       "      <td>1928-01-03</td>\n",
       "      <td>17.760000</td>\n",
       "      <td>17.760000</td>\n",
       "      <td>17.760000</td>\n",
       "      <td>17.760000</td>\n",
       "      <td>17.760000</td>\n",
       "      <td>0</td>\n",
       "      <td>1928-01-03</td>\n",
       "    </tr>\n",
       "    <tr>\n",
       "      <th>2</th>\n",
       "      <td>1928-01-04</td>\n",
       "      <td>17.719999</td>\n",
       "      <td>17.719999</td>\n",
       "      <td>17.719999</td>\n",
       "      <td>17.719999</td>\n",
       "      <td>17.719999</td>\n",
       "      <td>0</td>\n",
       "      <td>1928-01-04</td>\n",
       "    </tr>\n",
       "    <tr>\n",
       "      <th>3</th>\n",
       "      <td>1928-01-05</td>\n",
       "      <td>17.549999</td>\n",
       "      <td>17.549999</td>\n",
       "      <td>17.549999</td>\n",
       "      <td>17.549999</td>\n",
       "      <td>17.549999</td>\n",
       "      <td>0</td>\n",
       "      <td>1928-01-05</td>\n",
       "    </tr>\n",
       "    <tr>\n",
       "      <th>4</th>\n",
       "      <td>1928-01-06</td>\n",
       "      <td>17.660000</td>\n",
       "      <td>17.660000</td>\n",
       "      <td>17.660000</td>\n",
       "      <td>17.660000</td>\n",
       "      <td>17.660000</td>\n",
       "      <td>0</td>\n",
       "      <td>1928-01-06</td>\n",
       "    </tr>\n",
       "  </tbody>\n",
       "</table>\n",
       "</div>"
      ],
      "text/plain": [
       "         Date       Open       High        Low      Close  Adj Close  Volume  \\\n",
       "0  1927-12-30  17.660000  17.660000  17.660000  17.660000  17.660000       0   \n",
       "1  1928-01-03  17.760000  17.760000  17.760000  17.760000  17.760000       0   \n",
       "2  1928-01-04  17.719999  17.719999  17.719999  17.719999  17.719999       0   \n",
       "3  1928-01-05  17.549999  17.549999  17.549999  17.549999  17.549999       0   \n",
       "4  1928-01-06  17.660000  17.660000  17.660000  17.660000  17.660000       0   \n",
       "\n",
       "        date  \n",
       "0 1927-12-30  \n",
       "1 1928-01-03  \n",
       "2 1928-01-04  \n",
       "3 1928-01-05  \n",
       "4 1928-01-06  "
      ]
     },
     "execution_count": 127,
     "metadata": {},
     "output_type": "execute_result"
    }
   ],
   "source": [
    "sp500.head()"
   ]
  },
  {
   "cell_type": "code",
   "execution_count": 128,
   "metadata": {
    "ExecuteTime": {
     "end_time": "2020-10-19T10:39:39.070754Z",
     "start_time": "2020-10-19T10:39:39.066004Z"
    }
   },
   "outputs": [],
   "source": [
    "sp500['ret_daily'] = sp500['Adj Close'].pct_change(1) "
   ]
  },
  {
   "cell_type": "code",
   "execution_count": 129,
   "metadata": {
    "ExecuteTime": {
     "end_time": "2020-10-19T10:39:39.672943Z",
     "start_time": "2020-10-19T10:39:39.662819Z"
    }
   },
   "outputs": [],
   "source": [
    "FF = FF.merge(sp500[['date', 'ret_daily']], on=['date'], how='inner')"
   ]
  },
  {
   "cell_type": "code",
   "execution_count": 130,
   "metadata": {
    "ExecuteTime": {
     "end_time": "2020-10-19T10:39:41.570282Z",
     "start_time": "2020-10-19T10:39:41.564618Z"
    }
   },
   "outputs": [],
   "source": [
    "FF = FF.dropna()"
   ]
  },
  {
   "cell_type": "code",
   "execution_count": 131,
   "metadata": {
    "ExecuteTime": {
     "end_time": "2020-10-19T10:39:42.718520Z",
     "start_time": "2020-10-19T10:39:42.568265Z"
    }
   },
   "outputs": [],
   "source": [
    "FF['mp_daily'] = FF['ret_daily'] - (FF['RF']/100)"
   ]
  },
  {
   "cell_type": "code",
   "execution_count": 132,
   "metadata": {
    "ExecuteTime": {
     "end_time": "2020-10-19T10:39:43.065248Z",
     "start_time": "2020-10-19T10:39:43.060214Z"
    }
   },
   "outputs": [],
   "source": [
    "FF['mp_10yr'] = FF['mp_daily'].rolling(2520, min_periods=2520).mean()\n",
    "FF['mp_10yr'] = (1+FF['mp_10yr']).pow(365)-1"
   ]
  },
  {
   "cell_type": "code",
   "execution_count": 133,
   "metadata": {
    "ExecuteTime": {
     "end_time": "2020-10-19T10:39:43.619971Z",
     "start_time": "2020-10-19T10:39:43.616234Z"
    }
   },
   "outputs": [],
   "source": [
    "FF1 = FF.set_index('date')"
   ]
  },
  {
   "cell_type": "code",
   "execution_count": 134,
   "metadata": {
    "ExecuteTime": {
     "end_time": "2020-10-19T10:39:44.585959Z",
     "start_time": "2020-10-19T10:39:44.297534Z"
    }
   },
   "outputs": [
    {
     "data": {
      "text/plain": [
       "<AxesSubplot:xlabel='date'>"
      ]
     },
     "execution_count": 134,
     "metadata": {},
     "output_type": "execute_result"
    },
    {
     "data": {
      "image/png": "[encoded data removed]",
      "text/plain": [
       "<Figure size 720x432 with 1 Axes>"
      ]
     },
     "metadata": {},
     "output_type": "display_data"
    }
   ],
   "source": [
    "import seaborn as sns\n",
    "sns.set(rc={'figure.figsize':(10,6)})\n",
    "FF1['mp_10yr'].plot()"
   ]
  },
  {
   "cell_type": "code",
   "execution_count": 135,
   "metadata": {
    "ExecuteTime": {
     "end_time": "2020-10-19T10:39:49.470074Z",
     "start_time": "2020-10-19T10:39:49.463939Z"
    }
   },
   "outputs": [
    {
     "data": {
      "text/plain": [
       "0.061899977279435525"
      ]
     },
     "execution_count": 135,
     "metadata": {},
     "output_type": "execute_result"
    }
   ],
   "source": [
    "(1+FF[FF.date.dt.year>1978]['mp_daily'].mean())**252-1"
   ]
  },
  {
   "cell_type": "code",
   "execution_count": 137,
   "metadata": {
    "ExecuteTime": {
     "end_time": "2020-10-19T10:41:07.113322Z",
     "start_time": "2020-10-19T10:41:06.900050Z"
    }
   },
   "outputs": [],
   "source": [
    "FF[['date', 'mp_10yr']].to_csv(f'{PROJECT_FOLDER}/lookup_tables/erp.csv')"
   ]
  },
  {
   "cell_type": "code",
   "execution_count": null,
   "metadata": {},
   "outputs": [],
   "source": []
  }
 ],
 "metadata": {
  "kernelspec": {
   "display_name": "Python 3",
   "language": "python",
   "name": "python3"
  },
  "language_info": {
   "codemirror_mode": {
    "name": "ipython",
    "version": 3
   },
   "file_extension": ".py",
   "mimetype": "text/x-python",
   "name": "python",
   "nbconvert_exporter": "python",
   "pygments_lexer": "ipython3",
   "version": "3.7.7"
  },
  "toc": {
   "base_numbering": 1,
   "nav_menu": {},
   "number_sections": true,
   "sideBar": true,
   "skip_h1_title": false,
   "title_cell": "Table of Contents",
   "title_sidebar": "Contents",
   "toc_cell": false,
   "toc_position": {},
   "toc_section_display": true,
   "toc_window_display": false
  },
  "varInspector": {
   "cols": {
    "lenName": 16,
    "lenType": 16,
    "lenVar": 40
   },
   "kernels_config": {
    "python": {
     "delete_cmd_postfix": "",
     "delete_cmd_prefix": "del ",
     "library": "var_list.py",
     "varRefreshCmd": "print(var_dic_list())"
    },
    "r": {
     "delete_cmd_postfix": ") ",
     "delete_cmd_prefix": "rm(",
     "library": "var_list.r",
     "varRefreshCmd": "cat(var_dic_list()) "
    }
   },
   "types_to_exclude": [
    "module",
    "function",
    "builtin_function_or_method",
    "instance",
    "_Feature"
   ],
   "window_display": false
  }
 },
 "nbformat": 4,
 "nbformat_minor": 4
}
