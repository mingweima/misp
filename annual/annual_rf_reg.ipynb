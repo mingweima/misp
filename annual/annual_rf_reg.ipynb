{
 "cells": [
  {
   "cell_type": "code",
   "execution_count": 1,
   "metadata": {},
   "outputs": [],
   "source": [
    "from sklearn.ensemble import RandomForestRegressor\n",
    "from sklearn.metrics import r2_score\n",
    "\n",
    "from datetime import datetime\n",
    "import numpy as np\n",
    "import pandas as pd\n",
    "import matplotlib.pyplot as plt\n",
    "from matplotlib.collections import LineCollection\n",
    "\n",
    "import statsmodels as sms\n",
    "import statsmodels.formula.api as smf\n",
    "from scipy import stats"
   ]
  },
  {
   "cell_type": "code",
   "execution_count": 9,
   "metadata": {},
   "outputs": [],
   "source": [
    "data1 = pd.read_pickle('real_fore_prc1.pkl')\n",
    "data1 = data1.reset_index()"
   ]
  },
  {
   "cell_type": "code",
   "execution_count": 12,
   "metadata": {},
   "outputs": [],
   "source": [
    "data1['year'] = data1.statpers_1.dt.year"
   ]
  },
  {
   "cell_type": "code",
   "execution_count": 21,
   "metadata": {},
   "outputs": [],
   "source": [
    "tr1 = data1.loc[(1986 <= data1['year']) & (data1['year'] <= 2009)].dropna()\n",
    "ts1 = data1.loc[(2010 <= data1['year']) & (data1['year'] <= 2020)].dropna()"
   ]
  },
  {
   "cell_type": "code",
   "execution_count": 22,
   "metadata": {},
   "outputs": [
    {
     "data": {
      "text/html": [
       "<div>\n",
       "<style scoped>\n",
       "    .dataframe tbody tr th:only-of-type {\n",
       "        vertical-align: middle;\n",
       "    }\n",
       "\n",
       "    .dataframe tbody tr th {\n",
       "        vertical-align: top;\n",
       "    }\n",
       "\n",
       "    .dataframe thead th {\n",
       "        text-align: right;\n",
       "    }\n",
       "</style>\n",
       "<table border=\"1\" class=\"dataframe\">\n",
       "  <thead>\n",
       "    <tr style=\"text-align: right;\">\n",
       "      <th></th>\n",
       "      <th>statpers_1</th>\n",
       "      <th>permno</th>\n",
       "      <th>prc</th>\n",
       "      <th>jdate</th>\n",
       "      <th>ticker</th>\n",
       "      <th>anndats</th>\n",
       "      <th>past_eps</th>\n",
       "      <th>pred_date</th>\n",
       "      <th>pred_eps</th>\n",
       "      <th>mean_fpi1</th>\n",
       "      <th>year</th>\n",
       "    </tr>\n",
       "  </thead>\n",
       "  <tbody>\n",
       "    <tr>\n",
       "      <th>0</th>\n",
       "      <td>1991-09-19</td>\n",
       "      <td>10001</td>\n",
       "      <td>9.750</td>\n",
       "      <td>1990-09-30</td>\n",
       "      <td>GFGC</td>\n",
       "      <td>1991-09-18</td>\n",
       "      <td>1.01</td>\n",
       "      <td>1992-08-31</td>\n",
       "      <td>0.77</td>\n",
       "      <td>1.13</td>\n",
       "      <td>1991</td>\n",
       "    </tr>\n",
       "    <tr>\n",
       "      <th>1</th>\n",
       "      <td>1991-09-19</td>\n",
       "      <td>10001</td>\n",
       "      <td>9.625</td>\n",
       "      <td>1990-10-31</td>\n",
       "      <td>GFGC</td>\n",
       "      <td>1991-09-18</td>\n",
       "      <td>1.01</td>\n",
       "      <td>1992-08-31</td>\n",
       "      <td>0.77</td>\n",
       "      <td>1.13</td>\n",
       "      <td>1991</td>\n",
       "    </tr>\n",
       "    <tr>\n",
       "      <th>2</th>\n",
       "      <td>1991-09-19</td>\n",
       "      <td>10001</td>\n",
       "      <td>9.625</td>\n",
       "      <td>1990-11-30</td>\n",
       "      <td>GFGC</td>\n",
       "      <td>1991-09-18</td>\n",
       "      <td>1.01</td>\n",
       "      <td>1992-08-31</td>\n",
       "      <td>0.77</td>\n",
       "      <td>1.13</td>\n",
       "      <td>1991</td>\n",
       "    </tr>\n",
       "    <tr>\n",
       "      <th>3</th>\n",
       "      <td>1991-09-19</td>\n",
       "      <td>10001</td>\n",
       "      <td>9.500</td>\n",
       "      <td>1990-12-31</td>\n",
       "      <td>GFGC</td>\n",
       "      <td>1991-09-18</td>\n",
       "      <td>1.01</td>\n",
       "      <td>1992-08-31</td>\n",
       "      <td>0.77</td>\n",
       "      <td>1.13</td>\n",
       "      <td>1991</td>\n",
       "    </tr>\n",
       "    <tr>\n",
       "      <th>4</th>\n",
       "      <td>1991-09-19</td>\n",
       "      <td>10001</td>\n",
       "      <td>9.625</td>\n",
       "      <td>1991-01-31</td>\n",
       "      <td>GFGC</td>\n",
       "      <td>1991-09-18</td>\n",
       "      <td>1.01</td>\n",
       "      <td>1992-08-31</td>\n",
       "      <td>0.77</td>\n",
       "      <td>1.13</td>\n",
       "      <td>1991</td>\n",
       "    </tr>\n",
       "    <tr>\n",
       "      <th>5</th>\n",
       "      <td>1991-09-19</td>\n",
       "      <td>10001</td>\n",
       "      <td>9.750</td>\n",
       "      <td>1991-02-28</td>\n",
       "      <td>GFGC</td>\n",
       "      <td>1991-09-18</td>\n",
       "      <td>1.01</td>\n",
       "      <td>1992-08-31</td>\n",
       "      <td>0.77</td>\n",
       "      <td>1.13</td>\n",
       "      <td>1991</td>\n",
       "    </tr>\n",
       "    <tr>\n",
       "      <th>6</th>\n",
       "      <td>1991-09-19</td>\n",
       "      <td>10001</td>\n",
       "      <td>9.500</td>\n",
       "      <td>1991-03-31</td>\n",
       "      <td>GFGC</td>\n",
       "      <td>1991-09-18</td>\n",
       "      <td>1.01</td>\n",
       "      <td>1992-08-31</td>\n",
       "      <td>0.77</td>\n",
       "      <td>1.13</td>\n",
       "      <td>1991</td>\n",
       "    </tr>\n",
       "    <tr>\n",
       "      <th>7</th>\n",
       "      <td>1991-09-19</td>\n",
       "      <td>10001</td>\n",
       "      <td>9.875</td>\n",
       "      <td>1991-04-30</td>\n",
       "      <td>GFGC</td>\n",
       "      <td>1991-09-18</td>\n",
       "      <td>1.01</td>\n",
       "      <td>1992-08-31</td>\n",
       "      <td>0.77</td>\n",
       "      <td>1.13</td>\n",
       "      <td>1991</td>\n",
       "    </tr>\n",
       "    <tr>\n",
       "      <th>8</th>\n",
       "      <td>1991-09-19</td>\n",
       "      <td>10001</td>\n",
       "      <td>9.875</td>\n",
       "      <td>1991-05-31</td>\n",
       "      <td>GFGC</td>\n",
       "      <td>1991-09-18</td>\n",
       "      <td>1.01</td>\n",
       "      <td>1992-08-31</td>\n",
       "      <td>0.77</td>\n",
       "      <td>1.13</td>\n",
       "      <td>1991</td>\n",
       "    </tr>\n",
       "    <tr>\n",
       "      <th>9</th>\n",
       "      <td>1991-09-19</td>\n",
       "      <td>10001</td>\n",
       "      <td>10.500</td>\n",
       "      <td>1991-06-30</td>\n",
       "      <td>GFGC</td>\n",
       "      <td>1991-09-18</td>\n",
       "      <td>1.01</td>\n",
       "      <td>1992-08-31</td>\n",
       "      <td>0.77</td>\n",
       "      <td>1.13</td>\n",
       "      <td>1991</td>\n",
       "    </tr>\n",
       "    <tr>\n",
       "      <th>10</th>\n",
       "      <td>1991-09-19</td>\n",
       "      <td>10001</td>\n",
       "      <td>10.125</td>\n",
       "      <td>1991-07-31</td>\n",
       "      <td>GFGC</td>\n",
       "      <td>1991-09-18</td>\n",
       "      <td>1.01</td>\n",
       "      <td>1992-08-31</td>\n",
       "      <td>0.77</td>\n",
       "      <td>1.13</td>\n",
       "      <td>1991</td>\n",
       "    </tr>\n",
       "    <tr>\n",
       "      <th>11</th>\n",
       "      <td>1991-09-19</td>\n",
       "      <td>10001</td>\n",
       "      <td>11.500</td>\n",
       "      <td>1991-08-31</td>\n",
       "      <td>GFGC</td>\n",
       "      <td>1991-09-18</td>\n",
       "      <td>1.01</td>\n",
       "      <td>1992-08-31</td>\n",
       "      <td>0.77</td>\n",
       "      <td>1.13</td>\n",
       "      <td>1991</td>\n",
       "    </tr>\n",
       "    <tr>\n",
       "      <th>12</th>\n",
       "      <td>1992-09-17</td>\n",
       "      <td>10001</td>\n",
       "      <td>11.500</td>\n",
       "      <td>1991-09-30</td>\n",
       "      <td>GFGC</td>\n",
       "      <td>1992-08-26</td>\n",
       "      <td>0.77</td>\n",
       "      <td>1993-09-30</td>\n",
       "      <td>1.18</td>\n",
       "      <td>1.13</td>\n",
       "      <td>1992</td>\n",
       "    </tr>\n",
       "    <tr>\n",
       "      <th>13</th>\n",
       "      <td>1992-09-17</td>\n",
       "      <td>10001</td>\n",
       "      <td>13.000</td>\n",
       "      <td>1991-10-31</td>\n",
       "      <td>GFGC</td>\n",
       "      <td>1992-08-26</td>\n",
       "      <td>0.77</td>\n",
       "      <td>1993-09-30</td>\n",
       "      <td>1.18</td>\n",
       "      <td>1.13</td>\n",
       "      <td>1992</td>\n",
       "    </tr>\n",
       "    <tr>\n",
       "      <th>14</th>\n",
       "      <td>1992-09-17</td>\n",
       "      <td>10001</td>\n",
       "      <td>14.750</td>\n",
       "      <td>1991-11-30</td>\n",
       "      <td>GFGC</td>\n",
       "      <td>1992-08-26</td>\n",
       "      <td>0.77</td>\n",
       "      <td>1993-09-30</td>\n",
       "      <td>1.18</td>\n",
       "      <td>1.13</td>\n",
       "      <td>1992</td>\n",
       "    </tr>\n",
       "  </tbody>\n",
       "</table>\n",
       "</div>"
      ],
      "text/plain": [
       "   statpers_1  permno     prc      jdate ticker    anndats  past_eps  \\\n",
       "0  1991-09-19   10001   9.750 1990-09-30   GFGC 1991-09-18      1.01   \n",
       "1  1991-09-19   10001   9.625 1990-10-31   GFGC 1991-09-18      1.01   \n",
       "2  1991-09-19   10001   9.625 1990-11-30   GFGC 1991-09-18      1.01   \n",
       "3  1991-09-19   10001   9.500 1990-12-31   GFGC 1991-09-18      1.01   \n",
       "4  1991-09-19   10001   9.625 1991-01-31   GFGC 1991-09-18      1.01   \n",
       "5  1991-09-19   10001   9.750 1991-02-28   GFGC 1991-09-18      1.01   \n",
       "6  1991-09-19   10001   9.500 1991-03-31   GFGC 1991-09-18      1.01   \n",
       "7  1991-09-19   10001   9.875 1991-04-30   GFGC 1991-09-18      1.01   \n",
       "8  1991-09-19   10001   9.875 1991-05-31   GFGC 1991-09-18      1.01   \n",
       "9  1991-09-19   10001  10.500 1991-06-30   GFGC 1991-09-18      1.01   \n",
       "10 1991-09-19   10001  10.125 1991-07-31   GFGC 1991-09-18      1.01   \n",
       "11 1991-09-19   10001  11.500 1991-08-31   GFGC 1991-09-18      1.01   \n",
       "12 1992-09-17   10001  11.500 1991-09-30   GFGC 1992-08-26      0.77   \n",
       "13 1992-09-17   10001  13.000 1991-10-31   GFGC 1992-08-26      0.77   \n",
       "14 1992-09-17   10001  14.750 1991-11-30   GFGC 1992-08-26      0.77   \n",
       "\n",
       "    pred_date  pred_eps  mean_fpi1  year  \n",
       "0  1992-08-31      0.77       1.13  1991  \n",
       "1  1992-08-31      0.77       1.13  1991  \n",
       "2  1992-08-31      0.77       1.13  1991  \n",
       "3  1992-08-31      0.77       1.13  1991  \n",
       "4  1992-08-31      0.77       1.13  1991  \n",
       "5  1992-08-31      0.77       1.13  1991  \n",
       "6  1992-08-31      0.77       1.13  1991  \n",
       "7  1992-08-31      0.77       1.13  1991  \n",
       "8  1992-08-31      0.77       1.13  1991  \n",
       "9  1992-08-31      0.77       1.13  1991  \n",
       "10 1992-08-31      0.77       1.13  1991  \n",
       "11 1992-08-31      0.77       1.13  1991  \n",
       "12 1993-09-30      1.18       1.13  1992  \n",
       "13 1993-09-30      1.18       1.13  1992  \n",
       "14 1993-09-30      1.18       1.13  1992  "
      ]
     },
     "execution_count": 22,
     "metadata": {},
     "output_type": "execute_result"
    }
   ],
   "source": [
    "data1.head(15)"
   ]
  },
  {
   "cell_type": "code",
   "execution_count": 23,
   "metadata": {},
   "outputs": [],
   "source": [
    "X_tr1 = tr1[['prc', 'past_eps', 'mean_fpi1']]\n",
    "y_tr1 = tr1['pred_eps']\n",
    "X_ts1 = ts1[['prc', 'past_eps', 'mean_fpi1']]\n",
    "y_ts1 = ts1['pred_eps']"
   ]
  },
  {
   "cell_type": "code",
   "execution_count": 24,
   "metadata": {},
   "outputs": [
    {
     "data": {
      "text/plain": [
       "(859907, 3)"
      ]
     },
     "execution_count": 24,
     "metadata": {},
     "output_type": "execute_result"
    }
   ],
   "source": [
    "X_tr1.shape"
   ]
  },
  {
   "cell_type": "code",
   "execution_count": 25,
   "metadata": {},
   "outputs": [
    {
     "data": {
      "text/plain": [
       "(288700, 3)"
      ]
     },
     "execution_count": 25,
     "metadata": {},
     "output_type": "execute_result"
    }
   ],
   "source": [
    "X_ts1.shape"
   ]
  },
  {
   "cell_type": "code",
   "execution_count": 26,
   "metadata": {},
   "outputs": [
    {
     "name": "stdout",
     "output_type": "stream",
     "text": [
      "2020-11-11 21:54:31.833710 3 0.9968423511226419 0.8224596736138897\n",
      "2020-11-11 21:54:43.341118 5 0.9986838187227972 0.8223646100429107\n",
      "2020-11-11 21:54:58.035662 7 0.9989320097545153 0.822382188674215\n"
     ]
    }
   ],
   "source": [
    "from datetime import datetime\n",
    "for i in [3, 5, 7]:\n",
    "    rf = RandomForestRegressor(random_state=0, n_estimators=100, max_depth=i, n_jobs=-1)\n",
    "    rf.fit(X_tr1, y_tr1)\n",
    "    yhat_tr1 = rf.predict(X_tr1)\n",
    "    yhat_ts1 = rf.predict(X_ts1)\n",
    "    inr2 = r2_score(y_tr1, yhat_tr1)\n",
    "    outr2 = r2_score(y_ts1, yhat_ts1)\n",
    "    print(datetime.now(), i, inr2, outr2)"
   ]
  },
  {
   "cell_type": "code",
   "execution_count": 38,
   "metadata": {},
   "outputs": [
    {
     "name": "stdout",
     "output_type": "stream",
     "text": [
      "2020-11-11 22:03:29.086811 3 0.9968393274934085 0.8224591560670916\n",
      "2020-11-11 22:03:35.215049 5 0.9986872757628672 0.8223668339352944\n",
      "2020-11-11 22:03:42.839716 7 0.9989234588119981 0.8223589114778885\n"
     ]
    }
   ],
   "source": [
    "for i in [3, 5, 7]:\n",
    "    rf = RandomForestRegressor(random_state=0, n_estimators=50, max_depth=i, n_jobs=-1)\n",
    "    rf.fit(X_tr1, y_tr1)\n",
    "    yhat_tr1 = rf.predict(X_tr1)\n",
    "    yhat_ts1 = rf.predict(X_ts1)\n",
    "    inr2 = r2_score(y_tr1, yhat_tr1)\n",
    "    outr2 = r2_score(y_ts1, yhat_ts1)\n",
    "    print(datetime.now(), i, inr2, outr2)"
   ]
  },
  {
   "cell_type": "code",
   "execution_count": 28,
   "metadata": {},
   "outputs": [],
   "source": [
    "data2 = pd.read_pickle('real_fore_prc2.pkl')\n",
    "data2 = data2.reset_index()"
   ]
  },
  {
   "cell_type": "code",
   "execution_count": 29,
   "metadata": {},
   "outputs": [],
   "source": [
    "data2['year'] = data2.statpers_2.dt.year"
   ]
  },
  {
   "cell_type": "code",
   "execution_count": 31,
   "metadata": {},
   "outputs": [],
   "source": [
    "tr2 = data2.loc[(1986 <= data2['year']) & (data2['year'] <= 2009)].dropna()\n",
    "ts2 = data2.loc[(2010 <= data2['year']) & (data2['year'] <= 2020)].dropna()"
   ]
  },
  {
   "cell_type": "code",
   "execution_count": 33,
   "metadata": {},
   "outputs": [],
   "source": [
    "X_tr2 = tr2[['prc', 'past_eps', 'mean_fpi2']]\n",
    "y_tr2 = tr2['pred_eps']\n",
    "X_ts2 = ts2[['prc', 'past_eps', 'mean_fpi2']]\n",
    "y_ts2 = ts2['pred_eps']"
   ]
  },
  {
   "cell_type": "code",
   "execution_count": 34,
   "metadata": {},
   "outputs": [
    {
     "data": {
      "text/plain": [
       "(854008, 3)"
      ]
     },
     "execution_count": 34,
     "metadata": {},
     "output_type": "execute_result"
    }
   ],
   "source": [
    "X_tr2.shape"
   ]
  },
  {
   "cell_type": "code",
   "execution_count": 36,
   "metadata": {},
   "outputs": [
    {
     "data": {
      "text/plain": [
       "(247848, 3)"
      ]
     },
     "execution_count": 36,
     "metadata": {},
     "output_type": "execute_result"
    }
   ],
   "source": [
    "X_ts2.shape"
   ]
  },
  {
   "cell_type": "code",
   "execution_count": 37,
   "metadata": {},
   "outputs": [
    {
     "name": "stdout",
     "output_type": "stream",
     "text": [
      "2020-11-11 22:02:48.524959 3 0.9919087832358372 0.7088939541747137\n",
      "2020-11-11 22:02:59.784023 5 0.9985199502233233 0.7092844632472728\n",
      "2020-11-11 22:03:14.096624 7 0.9987099054297606 0.7093194703293794\n"
     ]
    }
   ],
   "source": [
    "for i in [3, 5, 7]:\n",
    "    rf = RandomForestRegressor(random_state=0, n_estimators=100, max_depth=i, n_jobs=-1)\n",
    "    rf.fit(X_tr2, y_tr2)\n",
    "    yhat_tr2 = rf.predict(X_tr2)\n",
    "    yhat_ts2 = rf.predict(X_ts2)\n",
    "    inr2 = r2_score(y_tr2, yhat_tr2)\n",
    "    outr2 = r2_score(y_ts2, yhat_ts2)\n",
    "    print(datetime.now(), i, inr2, outr2)"
   ]
  },
  {
   "cell_type": "code",
   "execution_count": 39,
   "metadata": {},
   "outputs": [
    {
     "name": "stdout",
     "output_type": "stream",
     "text": [
      "2020-11-11 22:04:01.329357 3 0.9919087832358372 0.7088939541747137\n",
      "2020-11-11 22:04:13.657627 5 0.9985199502233233 0.7092844632472728\n",
      "2020-11-11 22:04:27.833098 7 0.9987099054297606 0.7093194703293794\n"
     ]
    }
   ],
   "source": [
    "for i in [3, 5, 7]:\n",
    "    rf = RandomForestRegressor(random_state=0, n_estimators=100, max_depth=i, n_jobs=-1)\n",
    "    rf.fit(X_tr2, y_tr2)\n",
    "    yhat_tr2 = rf.predict(X_tr2)\n",
    "    yhat_ts2 = rf.predict(X_ts2)\n",
    "    inr2 = r2_score(y_tr2, yhat_tr2)\n",
    "    outr2 = r2_score(y_ts2, yhat_ts2)\n",
    "    print(datetime.now(), i, inr2, outr2)"
   ]
  },
  {
   "cell_type": "code",
   "execution_count": null,
   "metadata": {},
   "outputs": [],
   "source": []
  }
 ],
 "metadata": {
  "kernelspec": {
   "display_name": "Python 3",
   "language": "python",
   "name": "python3"
  },
  "language_info": {
   "codemirror_mode": {
    "name": "ipython",
    "version": 3
   },
   "file_extension": ".py",
   "mimetype": "text/x-python",
   "name": "python",
   "nbconvert_exporter": "python",
   "pygments_lexer": "ipython3",
   "version": "3.7.7"
  },
  "toc": {
   "base_numbering": 1,
   "nav_menu": {},
   "number_sections": true,
   "sideBar": true,
   "skip_h1_title": false,
   "title_cell": "Table of Contents",
   "title_sidebar": "Contents",
   "toc_cell": false,
   "toc_position": {},
   "toc_section_display": true,
   "toc_window_display": false
  },
  "varInspector": {
   "cols": {
    "lenName": 16,
    "lenType": 16,
    "lenVar": 40
   },
   "kernels_config": {
    "python": {
     "delete_cmd_postfix": "",
     "delete_cmd_prefix": "del ",
     "library": "var_list.py",
     "varRefreshCmd": "print(var_dic_list())"
    },
    "r": {
     "delete_cmd_postfix": ") ",
     "delete_cmd_prefix": "rm(",
     "library": "var_list.r",
     "varRefreshCmd": "cat(var_dic_list()) "
    }
   },
   "types_to_exclude": [
    "module",
    "function",
    "builtin_function_or_method",
    "instance",
    "_Feature"
   ],
   "window_display": false
  }
 },
 "nbformat": 4,
 "nbformat_minor": 4
}
