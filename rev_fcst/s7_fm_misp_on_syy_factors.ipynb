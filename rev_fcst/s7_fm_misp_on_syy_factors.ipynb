{
 "cells": [
  {
   "cell_type": "code",
   "execution_count": 1,
   "metadata": {},
   "outputs": [],
   "source": [
    "import numpy as np\n",
    "import pandas as pd\n",
    "import statsmodels as sms\n",
    "import statsmodels.formula.api as smf\n",
    "import matplotlib.pyplot as plt\n",
    "from matplotlib.collections import LineCollection\n",
    "\n",
    "import seaborn as sns # for data visualization\n",
    "sns.set_style(\"whitegrid\")\n",
    "\n",
    "from dateutil.relativedelta import *\n",
    "from pandas.tseries.offsets import *\n",
    "\n",
    "pd.set_option('display.max_columns', None)"
   ]
  },
  {
   "cell_type": "code",
   "execution_count": 2,
   "metadata": {},
   "outputs": [],
   "source": [
    "import os \n",
    "\n",
    "LOOKUP_FOLDER = '~/misp/lookup_tables'\n",
    "\n",
    "def clean_ccm(ccm):\n",
    "    ccm['permno'] = ccm['permno'].astype(int).astype(str)\n",
    "    ccm['gvkey'] = ccm['gvkey'].astype(str)\n",
    "    ccm['linkdt'] = pd.to_datetime(ccm['linkdt'])\n",
    "    ccm['linkenddt'] = pd.to_datetime(ccm['linkenddt'])\n",
    "    isnull = ccm['linkenddt'].isnull()\n",
    "    ccm.loc[isnull, 'linkenddt'] = pd.Timestamp(year=2047, month=7, day=1)\n",
    "    return ccm\n",
    "\n",
    "ccm = pd.read_pickle(os.path.join(LOOKUP_FOLDER, 'ccm.pkl'))\n",
    "ccm_raw = pd.read_pickle(os.path.join(LOOKUP_FOLDER, 'ccm_raw.pkl'))\n",
    "ccm, ccm_raw = clean_ccm(ccm), clean_ccm(ccm_raw)"
   ]
  },
  {
   "cell_type": "code",
   "execution_count": 3,
   "metadata": {},
   "outputs": [
    {
     "name": "stderr",
     "output_type": "stream",
     "text": [
      "/home/mma3/.conda/envs/mlval/lib/python3.7/site-packages/numpy/lib/arraysetops.py:580: FutureWarning: elementwise comparison failed; returning scalar instead, but in the future will perform elementwise comparison\n",
      "  mask |= (ar1 == a)\n"
     ]
    }
   ],
   "source": [
    "syy_a = pd.read_csv('~/misp_data/syy/annualfactor.csv', index_col=0)\n",
    "syy_m = pd.read_csv('~/misp_data/syy/monthlyfactor.csv', index_col=0)\n",
    "syy_q = pd.read_csv('~/misp_data/syy/quarterlyfactor.csv', index_col=0)\n",
    "\n",
    "ccm['gvkey'] = ccm['gvkey'].astype(int)\n",
    "syy_q = syy_q.merge(ccm, on=['gvkey'])\n",
    "syy_q = syy_q[['permno', 'year', 'month', 'retonat11']]\n",
    "syy_a['year']=syy_a.index\n",
    "syy_a = syy_a.merge(ccm, on=['gvkey'])\n",
    "syy_a = syy_a[['permno', 'year', 'month', 'netstkis1' ,'accruals3', 'netopat4','atgr5','invtoat6','o8','grpf10']]\n",
    "syy_q['date'] = pd.to_datetime(syy_q[['year', 'month']].assign(DAY=1))\n",
    "syy_a['date'] = pd.to_datetime(syy_a[['year', 'month']].assign(DAY=1))\n",
    "syy_a = syy_a.sort_values(['date'], ascending=True).set_index('date')\n",
    "syy_q = syy_q.sort_values(['date'], ascending=True).set_index('date')\n",
    "syy_a = syy_a.drop(columns=['year', 'month'])\n",
    "syy_q = syy_q.drop(columns=['year', 'month'])\n",
    "syy_m['date'] = pd.to_datetime(syy_m[['year', 'month']].assign(DAY=1))\n",
    "syy_m = syy_m.drop(columns=['year', 'month'])\n",
    "syy_m['permno'] = syy_m.index.astype(int)\n",
    "syy_m = syy_m.sort_values(['date'], ascending=True).set_index('date')"
   ]
  },
  {
   "cell_type": "code",
   "execution_count": 4,
   "metadata": {},
   "outputs": [],
   "source": [
    "syy_aq = pd.merge_asof(syy_q, syy_a, on='date', direction='backward', by='permno')\n",
    "syy_aq['permno'] = syy_aq['permno'].astype(int)\n",
    "syy_aqm = pd.merge_asof(syy_m, syy_aq, left_index=True, right_on='date', direction='backward', by='permno')"
   ]
  },
  {
   "cell_type": "code",
   "execution_count": 5,
   "metadata": {},
   "outputs": [
    {
     "name": "stderr",
     "output_type": "stream",
     "text": [
      "/home/mma3/.conda/envs/mlval/lib/python3.7/site-packages/ipykernel_launcher.py:2: SettingWithCopyWarning: \n",
      "A value is trying to be set on a copy of a slice from a DataFrame.\n",
      "Try using .loc[row_indexer,col_indexer] = value instead\n",
      "\n",
      "See the caveats in the documentation: http://pandas.pydata.org/pandas-docs/stable/indexing.html#indexing-view-versus-copy\n",
      "  \n"
     ]
    }
   ],
   "source": [
    "syy = syy_aqm.dropna(thresh=10) \n",
    "syy['date']=syy['date']+MonthEnd(0)"
   ]
  },
  {
   "cell_type": "code",
   "execution_count": 6,
   "metadata": {},
   "outputs": [
    {
     "data": {
      "text/html": [
       "<div>\n",
       "<style scoped>\n",
       "    .dataframe tbody tr th:only-of-type {\n",
       "        vertical-align: middle;\n",
       "    }\n",
       "\n",
       "    .dataframe tbody tr th {\n",
       "        vertical-align: top;\n",
       "    }\n",
       "\n",
       "    .dataframe thead th {\n",
       "        text-align: right;\n",
       "    }\n",
       "</style>\n",
       "<table border=\"1\" class=\"dataframe\">\n",
       "  <thead>\n",
       "    <tr style=\"text-align: right;\">\n",
       "      <th></th>\n",
       "      <th>compeqis2</th>\n",
       "      <th>mmt9</th>\n",
       "      <th>permno</th>\n",
       "      <th>date</th>\n",
       "      <th>retonat11</th>\n",
       "      <th>netstkis1</th>\n",
       "      <th>accruals3</th>\n",
       "      <th>netopat4</th>\n",
       "      <th>atgr5</th>\n",
       "      <th>invtoat6</th>\n",
       "      <th>o8</th>\n",
       "      <th>grpf10</th>\n",
       "    </tr>\n",
       "  </thead>\n",
       "  <tbody>\n",
       "    <tr>\n",
       "      <th>881608</th>\n",
       "      <td>-0.054699</td>\n",
       "      <td>4.0</td>\n",
       "      <td>34817</td>\n",
       "      <td>2019-12-31</td>\n",
       "      <td>0.015173</td>\n",
       "      <td>1.0</td>\n",
       "      <td>0.157860</td>\n",
       "      <td>0.757710</td>\n",
       "      <td>0.040578</td>\n",
       "      <td>0.100876</td>\n",
       "      <td>-4.940793</td>\n",
       "      <td>0.208094</td>\n",
       "    </tr>\n",
       "    <tr>\n",
       "      <th>881254</th>\n",
       "      <td>-0.048032</td>\n",
       "      <td>7.0</td>\n",
       "      <td>11891</td>\n",
       "      <td>2019-12-31</td>\n",
       "      <td>-0.001305</td>\n",
       "      <td>1.0</td>\n",
       "      <td>-0.010576</td>\n",
       "      <td>0.678001</td>\n",
       "      <td>0.034993</td>\n",
       "      <td>0.067333</td>\n",
       "      <td>-3.103350</td>\n",
       "      <td>0.158026</td>\n",
       "    </tr>\n",
       "    <tr>\n",
       "      <th>880777</th>\n",
       "      <td>-0.071108</td>\n",
       "      <td>4.0</td>\n",
       "      <td>30681</td>\n",
       "      <td>2019-12-31</td>\n",
       "      <td>0.011588</td>\n",
       "      <td>1.0</td>\n",
       "      <td>-0.036759</td>\n",
       "      <td>0.174238</td>\n",
       "      <td>0.076226</td>\n",
       "      <td>0.002033</td>\n",
       "      <td>-4.333738</td>\n",
       "      <td>0.111980</td>\n",
       "    </tr>\n",
       "    <tr>\n",
       "      <th>881755</th>\n",
       "      <td>0.012172</td>\n",
       "      <td>2.0</td>\n",
       "      <td>13825</td>\n",
       "      <td>2019-12-31</td>\n",
       "      <td>0.019411</td>\n",
       "      <td>NaN</td>\n",
       "      <td>-0.055376</td>\n",
       "      <td>0.281669</td>\n",
       "      <td>0.161264</td>\n",
       "      <td>0.007114</td>\n",
       "      <td>-6.724171</td>\n",
       "      <td>0.081898</td>\n",
       "    </tr>\n",
       "    <tr>\n",
       "      <th>882609</th>\n",
       "      <td>0.772942</td>\n",
       "      <td>3.0</td>\n",
       "      <td>14505</td>\n",
       "      <td>2019-12-31</td>\n",
       "      <td>0.001135</td>\n",
       "      <td>7.0</td>\n",
       "      <td>0.009321</td>\n",
       "      <td>0.553450</td>\n",
       "      <td>0.025487</td>\n",
       "      <td>0.073171</td>\n",
       "      <td>-3.405293</td>\n",
       "      <td>0.078840</td>\n",
       "    </tr>\n",
       "  </tbody>\n",
       "</table>\n",
       "</div>"
      ],
      "text/plain": [
       "        compeqis2  mmt9  permno       date  retonat11  netstkis1  accruals3  \\\n",
       "881608  -0.054699   4.0   34817 2019-12-31   0.015173        1.0   0.157860   \n",
       "881254  -0.048032   7.0   11891 2019-12-31  -0.001305        1.0  -0.010576   \n",
       "880777  -0.071108   4.0   30681 2019-12-31   0.011588        1.0  -0.036759   \n",
       "881755   0.012172   2.0   13825 2019-12-31   0.019411        NaN  -0.055376   \n",
       "882609   0.772942   3.0   14505 2019-12-31   0.001135        7.0   0.009321   \n",
       "\n",
       "        netopat4     atgr5  invtoat6        o8    grpf10  \n",
       "881608  0.757710  0.040578  0.100876 -4.940793  0.208094  \n",
       "881254  0.678001  0.034993  0.067333 -3.103350  0.158026  \n",
       "880777  0.174238  0.076226  0.002033 -4.333738  0.111980  \n",
       "881755  0.281669  0.161264  0.007114 -6.724171  0.081898  \n",
       "882609  0.553450  0.025487  0.073171 -3.405293  0.078840  "
      ]
     },
     "execution_count": 6,
     "metadata": {},
     "output_type": "execute_result"
    }
   ],
   "source": [
    "syy.tail()"
   ]
  },
  {
   "cell_type": "code",
   "execution_count": 8,
   "metadata": {},
   "outputs": [
    {
     "name": "stdout",
     "output_type": "stream",
     "text": [
      "CPU times: user 1min 16s, sys: 5.16 s, total: 1min 22s\n",
      "Wall time: 1min 22s\n"
     ]
    }
   ],
   "source": [
    "%%time\n",
    "ret_decomp_dcf3 = pd.read_csv('~/misp_data/decomp_dcf3y_RF_1970_2019.csv', index_col=0)\n",
    "ret_decomp_dcf5 = pd.read_csv('~/misp_data/decomp_dcf5y_RF_1970_2019.csv', index_col=0)\n",
    "ret_decomp_dcf10 = pd.read_csv('~/misp_data/decomp_dcf10y_RF_1970_2019.csv', index_col=0)"
   ]
  },
  {
   "cell_type": "code",
   "execution_count": 9,
   "metadata": {},
   "outputs": [],
   "source": [
    "ret_decomp_dcf5['jdate_crsp'] = pd.to_datetime(ret_decomp_dcf5.jdate_crsp)"
   ]
  },
  {
   "cell_type": "code",
   "execution_count": 10,
   "metadata": {},
   "outputs": [],
   "source": [
    "mdf5 = syy.merge(ret_decomp_dcf5, left_on=['date', 'permno'], right_on=['jdate_crsp', 'permno'], how='inner')"
   ]
  },
  {
   "cell_type": "code",
   "execution_count": 11,
   "metadata": {},
   "outputs": [],
   "source": [
    "mdf5 = mdf5.sort_values(['permno', 'date'], ascending=True).set_index('date')"
   ]
  },
  {
   "cell_type": "code",
   "execution_count": 12,
   "metadata": {},
   "outputs": [],
   "source": [
    "# import mkl\n",
    "# mkl.set_num_threads(5)\n",
    "\n",
    "def ols_coef(x,formula):\n",
    "    return smf.ols(formula,data=x).fit().params\n",
    "\n",
    "def fama_macbeth_summary(p):\n",
    "    s = p.describe().T\n",
    "    s['std_error'] = s['std']/np.sqrt(s['count'])\n",
    "    s['tstat'] = s['mean']/s['std_error']\n",
    "    return s[['mean','std_error','tstat', 'count', 'std']]\n",
    "\n",
    "def fama_macbeth_reg_panel(regdf, xname='misp', yname='ret', \n",
    "                     csname='permno', tsname='jdate_crsp'): \n",
    "    # Panel factor setting FM reg\n",
    "    gamma_cs = (regdf.groupby(tsname).apply(ols_coef,f'{yname} ~ {xname}'))\n",
    "    gamma_cs = gamma_cs.rename(columns={\"Intercept\": \"alpha_i_t\", f\"beta_{xname}\": \"lamba_t\"})\n",
    "    return fama_macbeth_summary(gamma_cs)"
   ]
  },
  {
   "cell_type": "code",
   "execution_count": 13,
   "metadata": {},
   "outputs": [
    {
     "name": "stdout",
     "output_type": "stream",
     "text": [
      "Misp ~ compeqis2, 5Yr-DCF\n",
      "               mean  std_error      tstat  count       std\n",
      "alpha_i_t  1.556183   0.016683  93.278351  580.0  0.401785\n",
      "compeqis2  0.648042   0.016964  38.200977  580.0  0.408548\n",
      "\n",
      "Misp ~ mmt9, 5Yr-DCF\n",
      "               mean  std_error      tstat  count       std\n",
      "alpha_i_t  1.206108   0.017336  69.573040  580.0  0.417503\n",
      "mmt9       0.048464   0.001714  28.281627  580.0  0.041269\n",
      "\n",
      "Misp ~ retonat11, 5Yr-DCF\n",
      "               mean  std_error      tstat  count       std\n",
      "alpha_i_t  1.403988   0.023083  60.824526  578.0  0.554943\n",
      "retonat11  3.835223   0.357494  10.728086  578.0  8.594730\n",
      "\n",
      "Misp ~ netstkis1, 5Yr-DCF\n",
      "               mean  std_error      tstat  count       std\n",
      "alpha_i_t  1.219704   0.019956  61.120103  580.0  0.480601\n",
      "netstkis1  0.049924   0.000971  51.414285  580.0  0.023385\n",
      "\n",
      "Misp ~ accruals3, 5Yr-DCF\n",
      "               mean  std_error      tstat  count       std\n",
      "alpha_i_t  1.481999   0.019083  77.662648  580.0  0.459568\n",
      "accruals3 -0.021249   0.010927  -1.944594  580.0  0.263163\n",
      "\n",
      "Misp ~ netopat4, 5Yr-DCF\n",
      "               mean  std_error      tstat  count       std\n",
      "alpha_i_t  1.463696   0.025990  56.316936  580.0  0.625930\n",
      "netopat4  -0.016003   0.013519  -1.183749  580.0  0.325571\n",
      "\n",
      "Misp ~ atgr5, 5Yr-DCF\n",
      "               mean  std_error      tstat  count       std\n",
      "alpha_i_t  1.437134   0.019153  75.032941  580.0  0.461274\n",
      "atgr5      0.291438   0.012784  22.796364  580.0  0.307889\n",
      "\n",
      "Misp ~ invtoat6, 5Yr-DCF\n",
      "               mean  std_error      tstat  count       std\n",
      "alpha_i_t  1.442489   0.019514  73.919686  580.0  0.469966\n",
      "invtoat6   0.334194   0.016666  20.052477  580.0  0.401369\n",
      "\n",
      "Misp ~ o8, 5Yr-DCF\n",
      "               mean  std_error      tstat  count       std\n",
      "alpha_i_t  1.342298   0.024647  54.460249  580.0  0.593586\n",
      "o8        -0.048553   0.002675 -18.151676  580.0  0.064419\n",
      "\n",
      "Misp ~ grpf10, 5Yr-DCF\n",
      "               mean  std_error      tstat  count       std\n",
      "alpha_i_t  1.488261   0.019214  77.458850  580.0  0.462724\n",
      "grpf10    -0.039557   0.007138  -5.541564  580.0  0.171910\n",
      "\n"
     ]
    }
   ],
   "source": [
    "for var in ['compeqis2', 'mmt9','retonat11', 'netstkis1', 'accruals3',\n",
    "              'netopat4', 'atgr5', 'invtoat6', 'o8', 'grpf10']:\n",
    "    regdf = mdf5[['jdate_crsp', 'permno', 'ticker', var, 'misp']].replace([np.inf, -np.inf], np.nan).dropna()\n",
    "    print(f'Misp ~ {var}, 5Yr-DCF')\n",
    "    print(fama_macbeth_reg_panel(regdf, xname=var, yname='misp'))\n",
    "    print('')"
   ]
  },
  {
   "cell_type": "code",
   "execution_count": 14,
   "metadata": {},
   "outputs": [],
   "source": [
    "misp_scroe = pd.read_csv('~/misp_data/Misp_Score.csv', index_col=0)\n",
    "misp_scroe['date'] = pd.to_datetime(misp_scroe['yyyymm'], format='%Y%m') + MonthEnd(0)"
   ]
  },
  {
   "cell_type": "code",
   "execution_count": 15,
   "metadata": {},
   "outputs": [],
   "source": [
    "mdf5_with_score = mdf5.merge(misp_scroe, left_on=['jdate_crsp', 'permno'], right_on=['date', 'permno'], how='inner')\n",
    "mdf5_with_score['ret'] = np.exp(mdf5_with_score['r_t+60'])-1\n",
    "mdf5_with_score['ret_ct'] = np.exp(mdf5_with_score['r*_t+60']-1)\n",
    "mdf5_with_score['ret_chg'] = np.exp(mdf5_with_score['r_chg+60'])\n",
    "mdf5_with_score['avg_score'] = mdf5_with_score['avg_score']/mdf5_with_score['avg_score'].mean()"
   ]
  },
  {
   "cell_type": "code",
   "execution_count": 16,
   "metadata": {},
   "outputs": [
    {
     "name": "stdout",
     "output_type": "stream",
     "text": [
      "misp ~ Misp Score, 5Yr-DCF\n",
      "               mean  std_error      tstat  count       std\n",
      "alpha_i_t  1.461768   0.017742  82.390707  544.0  0.413809\n",
      "avg_score -0.015439   0.011059  -1.396022  544.0  0.257945\n",
      "\n",
      "ret ~ Misp Score, 5Yr-DCF\n",
      "                mean  std_error     tstat  count         std\n",
      "alpha_i_t  30.327883   4.452253  6.811807  544.0  103.843481\n",
      "avg_score -19.995692   3.146183 -6.355539  544.0   73.380974\n",
      "\n",
      "ret_ct ~ Misp Score, 5Yr-DCF\n",
      "               mean  std_error     tstat  count       std\n",
      "alpha_i_t  0.667854   0.042344  15.77215  532.0  0.976666\n",
      "avg_score  0.077856   0.037062   2.10066  532.0  0.854850\n",
      "\n",
      "ret_chg ~ Misp Score, 5Yr-DCF\n",
      "               mean  std_error      tstat  count       std\n",
      "alpha_i_t  1.342733   0.038711  34.685699  532.0  0.892884\n",
      "avg_score  0.274553   0.035297   7.778418  532.0  0.814125\n",
      "\n"
     ]
    }
   ],
   "source": [
    "for var in ['misp', 'ret', 'ret_ct', 'ret_chg']:\n",
    "    regdf = mdf5_with_score[['jdate_crsp', 'permno', 'ticker', var, 'avg_score']].replace([np.inf, -np.inf], np.nan).dropna()\n",
    "    print(f'{var} ~ Misp Score, 5Yr-DCF')\n",
    "    print(fama_macbeth_reg_panel(regdf, xname='avg_score', yname=var))\n",
    "    print('')"
   ]
  },
  {
   "cell_type": "code",
   "execution_count": null,
   "metadata": {},
   "outputs": [],
   "source": []
  },
  {
   "cell_type": "code",
   "execution_count": null,
   "metadata": {},
   "outputs": [],
   "source": []
  }
 ],
 "metadata": {
  "kernelspec": {
   "display_name": "Python 3",
   "language": "python",
   "name": "python3"
  },
  "language_info": {
   "codemirror_mode": {
    "name": "ipython",
    "version": 3
   },
   "file_extension": ".py",
   "mimetype": "text/x-python",
   "name": "python",
   "nbconvert_exporter": "python",
   "pygments_lexer": "ipython3",
   "version": "3.7.7"
  }
 },
 "nbformat": 4,
 "nbformat_minor": 4
}
