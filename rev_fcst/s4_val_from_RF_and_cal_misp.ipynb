{
 "cells": [
  {
   "cell_type": "code",
   "execution_count": 3,
   "metadata": {},
   "outputs": [
    {
     "name": "stdout",
     "output_type": "stream",
     "text": [
      "CPU times: user 1min 3s, sys: 4.57 s, total: 1min 7s\n",
      "Wall time: 1min 7s\n"
     ]
    }
   ],
   "source": [
    "%%time \n",
    "\n",
    "import numpy as np\n",
    "import pandas as pd\n",
    "from dateutil.relativedelta import *\n",
    "from pandas.tseries.offsets import *\n",
    "\n",
    "pd.set_option('display.max_columns', None)\n",
    "comp = pd.read_csv('~/misp_data/comp_1959-2019.csv', index_col=0)\n",
    "crsp = pd.read_csv('~/misp_data/crsp_1959-2019.csv', index_col=0)\n",
    "beta = pd.read_csv('~/misp_data/capm_beta_weekly_1-3y_1959-2019.csv', index_col=0)\n",
    "\n",
    "comp['jdate'] = pd.to_datetime(comp['jdate'])\n",
    "comp.permno = comp.permno.astype(int)\n",
    "\n",
    "beta['date']=pd.to_datetime(beta['DATE'].astype(str))\n",
    "beta['jdate']=beta['date']+MonthEnd(0)\n",
    "beta['permno'] = beta.index\n",
    "beta = beta.drop_duplicates(subset=['permno', 'jdate'])"
   ]
  },
  {
   "cell_type": "code",
   "execution_count": 4,
   "metadata": {},
   "outputs": [],
   "source": [
    "FF = pd.read_csv('~/misp/lookup_tables/FF3.csv')\n",
    "FF['date'] = FF['Unnamed: 0']\n",
    "FF['date'] = pd.to_datetime(FF['date'].astype(str), format='%Y%m%d')\n",
    "FF['jdate'] = FF['date']+MonthEnd(0)\n",
    "FF = FF[['jdate', 'date', 'RF']]\n",
    "FF['RF'] = (1+FF['RF']/100).pow(365)-1\n",
    "\n",
    "beta = beta.merge(FF[['jdate', 'RF']],  on=['jdate'])\n",
    "beta = beta.drop_duplicates(subset=['permno', 'jdate'])"
   ]
  },
  {
   "cell_type": "code",
   "execution_count": 5,
   "metadata": {},
   "outputs": [],
   "source": [
    "def perform_valuation(df, val_method='dcf', **kwargs):\n",
    "    if val_method == 'dcf':\n",
    "        df['PV'] = dcf_valuation(df, **kwargs)\n",
    "    else:\n",
    "        raise ValueError(\n",
    "            f'Invalid valuation method {val_method}.')\n",
    "    return df\n",
    "\n",
    "\n",
    "def dcf_valuation(df, n=10, rp=0.06, tg=0.06):\n",
    "    beta = df['b_mkt']\n",
    "    rf = df['RF']\n",
    "    r = rf + beta * rp  # CAPM discount rate\n",
    "    num_firms = df.shape[0]\n",
    "    PV = np.zeros(num_firms)\n",
    "    for i in range(n):\n",
    "        ni_in_period_i = df[f'ni_{i+1}']\n",
    "        PV += ni_in_period_i / (1 + r) ** i\n",
    "        if i == n:\n",
    "            PV += ni_in_period_i * (1 + tg) / (((1 + r) ** n) * (r - tg + 1e-10))\n",
    "    return PV"
   ]
  },
  {
   "cell_type": "code",
   "execution_count": 6,
   "metadata": {},
   "outputs": [],
   "source": [
    "rf_val = pd.read_csv('RF_ni_pred_for_val.csv')\n",
    "rf_val['jdate'] = pd.to_datetime(rf_val['jdate'])"
   ]
  },
  {
   "cell_type": "code",
   "execution_count": 16,
   "metadata": {},
   "outputs": [
    {
     "name": "stdout",
     "output_type": "stream",
     "text": [
      "CPU times: user 4.8 s, sys: 2.33 s, total: 7.13 s\n",
      "Wall time: 7.14 s\n"
     ]
    }
   ],
   "source": [
    "%%time\n",
    "valdf = rf_val.merge(beta, on=['jdate', 'permno'])\n",
    "valdf = perform_valuation(valdf, n=10)\n",
    "valdf = valdf[['jdate', 'permno', \n",
    "               'year', 'PV']]\n",
    "valdf.year = valdf.year + 1\n",
    "val_crsp_mdf = valdf.merge(crsp, on=['year', 'permno'])\n",
    "val_crsp_mdf['vt'] = val_crsp_mdf['PV']*1000"
   ]
  },
  {
   "cell_type": "code",
   "execution_count": 17,
   "metadata": {},
   "outputs": [
    {
     "name": "stderr",
     "output_type": "stream",
     "text": [
      "/home/mma3/.conda/envs/mlval/lib/python3.7/site-packages/ipykernel_launcher.py:5: SettingWithCopyWarning: \n",
      "A value is trying to be set on a copy of a slice from a DataFrame\n",
      "\n",
      "See the caveats in the documentation: http://pandas.pydata.org/pandas-docs/stable/indexing.html#indexing-view-versus-copy\n",
      "  \"\"\"\n"
     ]
    }
   ],
   "source": [
    "val_df1 = val_crsp_mdf[['vt', 'permno', 'ticker', 'me', 'year', 'jdate_crsp',\n",
    "                        'logret_3', 'logret_6', 'logret_24', 'cumret_3', 'cumret_6', 'cumret_24',\n",
    "                        'logret_12', 'logret_36', 'logret_60', 'cumret_12', 'cumret_36', 'cumret_60',\n",
    "                         'termlogret', 'termcumret']]\n",
    "val_df1.sort_values(['permno','jdate_crsp'], ascending = [True,False], inplace=True)"
   ]
  },
  {
   "cell_type": "code",
   "execution_count": 18,
   "metadata": {},
   "outputs": [],
   "source": [
    "val_df2 = val_df1.copy()\n",
    "for m in [3, 6, 12, 24, 36, 60]:\n",
    "    val_df2[f'vt+{m}'] = val_df1.groupby('permno')['vt'].shift(m)\n",
    "    val_df2[f'me+{m}'] = val_df1.groupby('permno')['me'].shift(m)"
   ]
  },
  {
   "cell_type": "code",
   "execution_count": 19,
   "metadata": {},
   "outputs": [
    {
     "name": "stderr",
     "output_type": "stream",
     "text": [
      "/home/mma3/.conda/envs/mlval/lib/python3.7/site-packages/ipykernel_launcher.py:3: RuntimeWarning: invalid value encountered in log\n",
      "  This is separate from the ipykernel package so we can avoid doing imports until\n",
      "/home/mma3/.conda/envs/mlval/lib/python3.7/site-packages/ipykernel_launcher.py:4: RuntimeWarning: invalid value encountered in log\n",
      "  after removing the cwd from sys.path.\n"
     ]
    }
   ],
   "source": [
    "val_df3 = val_df2.copy()\n",
    "for m in [3, 6, 12, 24, 36, 60]:\n",
    "    val_df3['vt'] = np.log(val_df2.vt)\n",
    "    val_df3[f'vt+{m}'] = np.log(val_df2[f'vt+{m}'].astype(float))\n",
    "    val_df3['me'] = np.log(val_df2['me'].astype(float))\n",
    "    val_df3[f'me+{m}'] = np.log(val_df2[f'me+{m}'].astype(float))\n",
    "    val_df3[f'r_t+{m}'] = val_df3[f'logret_{m}'].fillna(val_df3['termlogret']+np.log(1-0.35))\n",
    "    val_df3[f'r*_t+{m}'] = val_df3[f'vt+{m}'] -  val_df3[f'vt']\n",
    "    val_df3[f'r_unchg+{m}'] = - (1-0.975) * (val_df3['me'] -  val_df3['vt'])\n",
    "    val_df3[f'r_chg+{m}'] = 0.975 * ( (val_df3[f'me+{m}'] -  val_df3[f'vt+{m}']) - ((val_df3[f'me'] -  val_df3['vt'])) )\n",
    "    "
   ]
  },
  {
   "cell_type": "code",
   "execution_count": 20,
   "metadata": {},
   "outputs": [],
   "source": [
    "val_df3 = val_df3[1970<=val_df3.year]\n",
    "val_df3 = val_df3.drop_duplicates(subset=['permno', 'jdate_crsp'])"
   ]
  },
  {
   "cell_type": "code",
   "execution_count": 21,
   "metadata": {},
   "outputs": [],
   "source": [
    "val_df3['misp'] = val_df3['me'] - val_df3['vt']\n",
    "val_df3 = val_df3.dropna(subset=['misp', 'r_t+60'])"
   ]
  },
  {
   "cell_type": "code",
   "execution_count": 22,
   "metadata": {},
   "outputs": [
    {
     "data": {
      "text/html": [
       "<div>\n",
       "<style scoped>\n",
       "    .dataframe tbody tr th:only-of-type {\n",
       "        vertical-align: middle;\n",
       "    }\n",
       "\n",
       "    .dataframe tbody tr th {\n",
       "        vertical-align: top;\n",
       "    }\n",
       "\n",
       "    .dataframe thead th {\n",
       "        text-align: right;\n",
       "    }\n",
       "</style>\n",
       "<table border=\"1\" class=\"dataframe\">\n",
       "  <thead>\n",
       "    <tr style=\"text-align: right;\">\n",
       "      <th></th>\n",
       "      <th>vt</th>\n",
       "      <th>permno</th>\n",
       "      <th>ticker</th>\n",
       "      <th>me</th>\n",
       "      <th>year</th>\n",
       "      <th>jdate_crsp</th>\n",
       "      <th>logret_3</th>\n",
       "      <th>logret_6</th>\n",
       "      <th>logret_24</th>\n",
       "      <th>cumret_3</th>\n",
       "      <th>cumret_6</th>\n",
       "      <th>cumret_24</th>\n",
       "      <th>logret_12</th>\n",
       "      <th>logret_36</th>\n",
       "      <th>logret_60</th>\n",
       "      <th>cumret_12</th>\n",
       "      <th>cumret_36</th>\n",
       "      <th>cumret_60</th>\n",
       "      <th>termlogret</th>\n",
       "      <th>termcumret</th>\n",
       "      <th>vt+3</th>\n",
       "      <th>me+3</th>\n",
       "      <th>vt+6</th>\n",
       "      <th>me+6</th>\n",
       "      <th>vt+12</th>\n",
       "      <th>me+12</th>\n",
       "      <th>vt+24</th>\n",
       "      <th>me+24</th>\n",
       "      <th>vt+36</th>\n",
       "      <th>me+36</th>\n",
       "      <th>vt+60</th>\n",
       "      <th>me+60</th>\n",
       "      <th>r_t+3</th>\n",
       "      <th>r*_t+3</th>\n",
       "      <th>r_unchg+3</th>\n",
       "      <th>r_chg+3</th>\n",
       "      <th>r_t+6</th>\n",
       "      <th>r*_t+6</th>\n",
       "      <th>r_unchg+6</th>\n",
       "      <th>r_chg+6</th>\n",
       "      <th>r_t+12</th>\n",
       "      <th>r*_t+12</th>\n",
       "      <th>r_unchg+12</th>\n",
       "      <th>r_chg+12</th>\n",
       "      <th>r_t+24</th>\n",
       "      <th>r*_t+24</th>\n",
       "      <th>r_unchg+24</th>\n",
       "      <th>r_chg+24</th>\n",
       "      <th>r_t+36</th>\n",
       "      <th>r*_t+36</th>\n",
       "      <th>r_unchg+36</th>\n",
       "      <th>r_chg+36</th>\n",
       "      <th>r_t+60</th>\n",
       "      <th>r*_t+60</th>\n",
       "      <th>r_unchg+60</th>\n",
       "      <th>r_chg+60</th>\n",
       "      <th>misp</th>\n",
       "    </tr>\n",
       "  </thead>\n",
       "  <tbody>\n",
       "  </tbody>\n",
       "</table>\n",
       "</div>"
      ],
      "text/plain": [
       "Empty DataFrame\n",
       "Columns: [vt, permno, ticker, me, year, jdate_crsp, logret_3, logret_6, logret_24, cumret_3, cumret_6, cumret_24, logret_12, logret_36, logret_60, cumret_12, cumret_36, cumret_60, termlogret, termcumret, vt+3, me+3, vt+6, me+6, vt+12, me+12, vt+24, me+24, vt+36, me+36, vt+60, me+60, r_t+3, r*_t+3, r_unchg+3, r_chg+3, r_t+6, r*_t+6, r_unchg+6, r_chg+6, r_t+12, r*_t+12, r_unchg+12, r_chg+12, r_t+24, r*_t+24, r_unchg+24, r_chg+24, r_t+36, r*_t+36, r_unchg+36, r_chg+36, r_t+60, r*_t+60, r_unchg+60, r_chg+60, misp]\n",
       "Index: []"
      ]
     },
     "execution_count": 22,
     "metadata": {},
     "output_type": "execute_result"
    }
   ],
   "source": [
    "val_df3[val_df3.ticker=='TLSA']"
   ]
  },
  {
   "cell_type": "code",
   "execution_count": 14,
   "metadata": {},
   "outputs": [
    {
     "name": "stdout",
     "output_type": "stream",
     "text": [
      "CPU times: user 2min 26s, sys: 800 ms, total: 2min 27s\n",
      "Wall time: 2min 28s\n"
     ]
    }
   ],
   "source": [
    "%%time\n",
    "val_df3.to_csv('~/misp_data/decomp_dcf10y_RF_1970_2019.csv')"
   ]
  },
  {
   "cell_type": "code",
   "execution_count": null,
   "metadata": {},
   "outputs": [],
   "source": []
  }
 ],
 "metadata": {
  "kernelspec": {
   "display_name": "Python 3",
   "language": "python",
   "name": "python3"
  },
  "language_info": {
   "codemirror_mode": {
    "name": "ipython",
    "version": 3
   },
   "file_extension": ".py",
   "mimetype": "text/x-python",
   "name": "python",
   "nbconvert_exporter": "python",
   "pygments_lexer": "ipython3",
   "version": "3.7.7"
  }
 },
 "nbformat": 4,
 "nbformat_minor": 4
}
