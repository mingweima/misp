{
 "cells": [
  {
   "cell_type": "code",
   "execution_count": 1,
   "metadata": {
    "ExecuteTime": {
     "end_time": "2020-10-19T06:54:09.947076Z",
     "start_time": "2020-10-19T06:54:09.514440Z"
    }
   },
   "outputs": [],
   "source": [
    "from sklearn.ensemble import GradientBoostingRegressor\n",
    "from sklearn.metrics import r2_score\n",
    "\n",
    "from datetime import datetime\n",
    "import numpy as np\n",
    "import pandas as pd\n",
    "import matplotlib.pyplot as plt\n",
    "from matplotlib.collections import LineCollection\n",
    "\n",
    "import statsmodels as sms\n",
    "import statsmodels.formula.api as smf\n",
    "from scipy import stats"
   ]
  },
  {
   "cell_type": "code",
   "execution_count": 2,
   "metadata": {
    "ExecuteTime": {
     "end_time": "2020-10-19T06:54:41.433048Z",
     "start_time": "2020-10-19T06:54:16.549836Z"
    }
   },
   "outputs": [],
   "source": [
    "DATA_FOLDER = '/Users/mmw/data/misp_data/'\n",
    "data = pd.read_csv(f'{DATA_FOLDER}/lagged_comp-fundr-ibes_for_val_1976-2019.csv', index_col = 0)"
   ]
  },
  {
   "cell_type": "code",
   "execution_count": 3,
   "metadata": {
    "ExecuteTime": {
     "end_time": "2020-10-19T06:54:50.667506Z",
     "start_time": "2020-10-19T06:54:41.645936Z"
    }
   },
   "outputs": [
    {
     "name": "stdout",
     "output_type": "stream",
     "text": [
      "(416963, 301) (110925, 301) (416963,) (110925,)\n"
     ]
    }
   ],
   "source": [
    "data = data.replace([np.inf, -np.inf], np.nan)\n",
    "# train val split: 1979-2009 train, 2010-2019 test\n",
    "tr = data.loc[(1979 <= data['year']) & (data['year'] <= 2009)]\n",
    "ts = data.loc[(2010 <= data['year']) & (data['year'] <= 2019)]\n",
    "tr1 = tr.dropna(subset = ['ni_1'])\n",
    "ts1 = ts.dropna(subset = ['ni_1'])\n",
    "\n",
    "X_tr1 = tr1.drop(['ticker', 'exchcd', 'permno','jdate','year','ni_1', 'ni_2', 'ni_3','ni_4','ni_5'], axis = 1)\n",
    "X_ts1 = ts1.drop(['ticker', 'exchcd', 'permno','jdate','year','ni_1', 'ni_2', 'ni_3','ni_4','ni_5'], axis = 1)\n",
    "y_tr1 = tr1['ni_1']\n",
    "y_ts1 = ts1['ni_1']\n",
    "\n",
    "X_tr1 = X_tr1.fillna(0).astype(float)\n",
    "X_ts1 = X_ts1.fillna(0).astype(float)\n",
    "\n",
    "y_tr1 = y_tr1.astype(float)\n",
    "y_ts1 = y_ts1.astype(float)\n",
    "\n",
    "print(X_tr1.shape, X_ts1.shape, y_tr1.shape, y_ts1.shape)"
   ]
  },
  {
   "cell_type": "code",
   "execution_count": null,
   "metadata": {
    "ExecuteTime": {
     "start_time": "2020-10-19T07:04:22.393Z"
    }
   },
   "outputs": [
    {
     "name": "stdout",
     "output_type": "stream",
     "text": [
      "10 0.057180763930038014 0.03510379071379588\n",
      "100 0.43698071319889176 0.5800509443746278\n"
     ]
    }
   ],
   "source": [
    "for i in [10, 100, 500]:\n",
    "    gbrt1 = GradientBoostingRegressor(random_state=0, loss='huber', n_estimators=i)\n",
    "    gbrt1.fit(X_tr1, y_tr1)\n",
    "    yhat_tr1 = gbrt1.predict(X_tr1)\n",
    "    yhat_ts1 = gbrt1.predict(X_ts1)\n",
    "    inr2 = r2_score(y_tr1, yhat_tr1)\n",
    "    outr2 = r2_score(y_ts1, yhat_ts1)\n",
    "    print(i, inr2, outr2)"
   ]
  },
  {
   "cell_type": "code",
   "execution_count": null,
   "metadata": {},
   "outputs": [],
   "source": []
  }
 ],
 "metadata": {
  "kernelspec": {
   "display_name": "Python 3",
   "language": "python",
   "name": "python3"
  },
  "language_info": {
   "codemirror_mode": {
    "name": "ipython",
    "version": 3
   },
   "file_extension": ".py",
   "mimetype": "text/x-python",
   "name": "python",
   "nbconvert_exporter": "python",
   "pygments_lexer": "ipython3",
   "version": "3.7.7"
  },
  "toc": {
   "base_numbering": 1,
   "nav_menu": {},
   "number_sections": true,
   "sideBar": true,
   "skip_h1_title": false,
   "title_cell": "Table of Contents",
   "title_sidebar": "Contents",
   "toc_cell": false,
   "toc_position": {},
   "toc_section_display": true,
   "toc_window_display": false
  },
  "varInspector": {
   "cols": {
    "lenName": 16,
    "lenType": 16,
    "lenVar": 40
   },
   "kernels_config": {
    "python": {
     "delete_cmd_postfix": "",
     "delete_cmd_prefix": "del ",
     "library": "var_list.py",
     "varRefreshCmd": "print(var_dic_list())"
    },
    "r": {
     "delete_cmd_postfix": ") ",
     "delete_cmd_prefix": "rm(",
     "library": "var_list.r",
     "varRefreshCmd": "cat(var_dic_list()) "
    }
   },
   "types_to_exclude": [
    "module",
    "function",
    "builtin_function_or_method",
    "instance",
    "_Feature"
   ],
   "window_display": false
  }
 },
 "nbformat": 4,
 "nbformat_minor": 4
}
