{
 "cells": [
  {
   "cell_type": "code",
   "execution_count": 4,
   "metadata": {
    "ExecuteTime": {
     "end_time": "2020-10-20T07:17:12.956595Z",
     "start_time": "2020-10-20T07:17:12.948165Z"
    }
   },
   "outputs": [],
   "source": [
    "from sklearn.neural_network import MLPRegressor\n",
    "from sklearn.metrics import r2_score\n",
    "\n",
    "from datetime import datetime\n",
    "import numpy as np\n",
    "import pandas as pd\n",
    "import matplotlib.pyplot as plt\n",
    "from matplotlib.collections import LineCollection\n",
    "\n",
    "import statsmodels as sms\n",
    "import statsmodels.formula.api as smf\n",
    "from scipy import stats"
   ]
  },
  {
   "cell_type": "code",
   "execution_count": 2,
   "metadata": {
    "ExecuteTime": {
     "end_time": "2020-10-20T07:16:43.176003Z",
     "start_time": "2020-10-20T07:16:33.145327Z"
    }
   },
   "outputs": [],
   "source": [
    "DATA_FOLDER = '/Users/mmw/data/misp_data/'\n",
    "data = pd.read_csv(f'{DATA_FOLDER}/lagged_comp-fundr-ibes_for_val_1976-2019.csv', index_col = 0)"
   ]
  },
  {
   "cell_type": "code",
   "execution_count": 3,
   "metadata": {
    "ExecuteTime": {
     "end_time": "2020-10-20T07:16:46.853079Z",
     "start_time": "2020-10-20T07:16:43.360359Z"
    }
   },
   "outputs": [
    {
     "name": "stdout",
     "output_type": "stream",
     "text": [
      "(172500, 301) (46298, 301) (172500,) (46298,)\n"
     ]
    }
   ],
   "source": [
    "data = data.replace([np.inf, -np.inf], np.nan)\n",
    "# train val split: 1979-2009 train, 2010-2019 test\n",
    "tr = data.loc[(1979 <= data['year']) & (data['year'] <= 2009)]\n",
    "ts = data.loc[(2010 <= data['year']) & (data['year'] <= 2019)]\n",
    "tr1 = tr.dropna(subset = ['ni_1'])\n",
    "ts1 = ts.dropna(subset = ['ni_1'])\n",
    "\n",
    "X_tr1 = tr1.drop(['ticker', 'exchcd', 'permno','jdate','year','ni_1', 'ni_2', 'ni_3','ni_4','ni_5'], axis = 1)\n",
    "X_ts1 = ts1.drop(['ticker', 'exchcd', 'permno','jdate','year','ni_1', 'ni_2', 'ni_3','ni_4','ni_5'], axis = 1)\n",
    "y_tr1 = tr1['ni_1']\n",
    "y_ts1 = ts1['ni_1']\n",
    "\n",
    "X_tr1 = X_tr1.fillna(0).astype(float)\n",
    "X_ts1 = X_ts1.fillna(0).astype(float)\n",
    "\n",
    "y_tr1 = y_tr1.astype(float)\n",
    "y_ts1 = y_ts1.astype(float)\n",
    "\n",
    "print(X_tr1.shape, X_ts1.shape, y_tr1.shape, y_ts1.shape)"
   ]
  },
  {
   "cell_type": "code",
   "execution_count": 16,
   "metadata": {
    "ExecuteTime": {
     "end_time": "2020-10-20T07:36:06.353791Z",
     "start_time": "2020-10-20T07:32:53.550209Z"
    },
    "scrolled": true
   },
   "outputs": [
    {
     "name": "stdout",
     "output_type": "stream",
     "text": [
      "Iteration 1, loss = 40146495023655241964847104.00000000\n",
      "Iteration 2, loss = 4066364406098511546810368.00000000\n",
      "Iteration 3, loss = 396970656448481138311168.00000000\n",
      "Iteration 4, loss = 68581127483122903941120.00000000\n",
      "Iteration 5, loss = 1902062002453685469184.00000000\n",
      "Iteration 6, loss = 3737890287431539712.00000000\n",
      "Iteration 7, loss = 383047.92721014\n",
      "Iteration 8, loss = 383047.91299910\n",
      "Iteration 9, loss = 383047.89293419\n",
      "Iteration 10, loss = 383047.86476513\n",
      "Iteration 11, loss = 383047.82506970\n",
      "Iteration 12, loss = 383047.76945323\n",
      "Iteration 13, loss = 383047.69153125\n",
      "Iteration 14, loss = 383047.58516473\n",
      "Iteration 15, loss = 383047.44000561\n",
      "Iteration 16, loss = 383047.23797912\n",
      "Iteration 17, loss = 383046.96543349\n",
      "Iteration 18, loss = 383046.59580120\n",
      "Iteration 19, loss = 383046.09036840\n",
      "Iteration 20, loss = 383045.42407396\n",
      "Iteration 21, loss = 383044.68125698\n",
      "Iteration 22, loss = 383044.26511876\n",
      "Iteration 23, loss = 383044.03030146\n",
      "Iteration 24, loss = 383043.81898459\n",
      "Iteration 25, loss = 383043.65292153\n",
      "Iteration 26, loss = 383043.53199388\n",
      "Iteration 27, loss = 383043.42286103\n",
      "Iteration 28, loss = 383043.30597622\n",
      "Iteration 29, loss = 383043.20921385\n",
      "Iteration 30, loss = 383043.14489136\n",
      "Iteration 31, loss = 383043.07267916\n",
      "Iteration 32, loss = 383042.99451720\n",
      "Iteration 33, loss = 383042.96298501\n",
      "Iteration 34, loss = 383042.95226628\n",
      "Iteration 35, loss = 383042.94779737\n",
      "Iteration 36, loss = 383042.94131571\n",
      "Iteration 37, loss = 383042.93593685\n",
      "Iteration 38, loss = 383042.92622815\n",
      "Iteration 39, loss = 383042.91696416\n",
      "Iteration 40, loss = 383042.90542198\n",
      "Iteration 41, loss = 383042.89022960\n",
      "Iteration 42, loss = 383042.87571205\n",
      "Iteration 43, loss = 383042.85547021\n",
      "Iteration 44, loss = 383042.83037634\n",
      "Iteration 45, loss = 383042.79738921\n",
      "Iteration 46, loss = 383042.74861372\n",
      "Iteration 47, loss = 383042.68489932\n",
      "Iteration 48, loss = 383042.59560161\n",
      "Iteration 49, loss = 383042.47730620\n",
      "Iteration 50, loss = 383042.31192890\n",
      "2020-10-20 15:34:17.214440 2 -0.008844172671490735 -0.03224134907476017\n"
     ]
    },
    {
     "name": "stderr",
     "output_type": "stream",
     "text": [
      "/Users/mmw/Installations/venvs/mlval/lib/python3.7/site-packages/sklearn/neural_network/_multilayer_perceptron.py:585: ConvergenceWarning: Stochastic Optimizer: Maximum iterations (50) reached and the optimization hasn't converged yet.\n",
      "  % self.max_iter, ConvergenceWarning)\n"
     ]
    },
    {
     "name": "stdout",
     "output_type": "stream",
     "text": [
      "Iteration 1, loss = 254295382889460293173248.00000000\n",
      "Iteration 2, loss = 187371240903551875870097408.00000000\n",
      "Iteration 3, loss = 366097.38195087\n",
      "Iteration 4, loss = 347215.71078189\n",
      "Iteration 5, loss = 339688.39129555\n",
      "Iteration 6, loss = 335497.44964350\n",
      "Iteration 7, loss = 331794.31516089\n",
      "Iteration 8, loss = 329922.24987699\n",
      "Iteration 9, loss = 326537.83304283\n",
      "Iteration 10, loss = 324290.39935476\n",
      "Iteration 11, loss = 321784.39463903\n",
      "Iteration 12, loss = 319071.99240911\n",
      "Iteration 13, loss = 316503.09138579\n",
      "Iteration 14, loss = 312992.92097362\n",
      "Iteration 15, loss = 311291.60147889\n",
      "Iteration 16, loss = 309298.93126323\n",
      "Iteration 17, loss = 307583.97071638\n",
      "Iteration 18, loss = 306422.96840641\n",
      "Iteration 19, loss = 303784.19935951\n",
      "Iteration 20, loss = 301049.00191703\n",
      "Iteration 21, loss = 300669.11298676\n",
      "Iteration 22, loss = 299349.24143141\n",
      "Iteration 23, loss = 296294.01227877\n",
      "Iteration 24, loss = 294947.74862349\n",
      "Iteration 25, loss = 291538.05735831\n",
      "Iteration 26, loss = 289600.34172863\n",
      "Iteration 27, loss = 286683.78185393\n",
      "Iteration 28, loss = 283351.06393160\n",
      "Iteration 29, loss = 285996.50494492\n",
      "Iteration 30, loss = 277673.33651324\n",
      "Iteration 31, loss = 272949.26873925\n",
      "Iteration 32, loss = 271054.83473218\n",
      "Iteration 33, loss = 266610.85428790\n",
      "Iteration 34, loss = 266465.39935233\n",
      "Iteration 35, loss = 262578.52706806\n",
      "Iteration 36, loss = 261333.61977570\n",
      "Iteration 37, loss = 257884.92321423\n",
      "Iteration 38, loss = 258885.84739021\n",
      "Iteration 39, loss = 12504649923153631865995264.00000000\n",
      "Iteration 40, loss = 278702.90630082\n",
      "Iteration 41, loss = 268128.36710695\n",
      "Iteration 42, loss = 262905.29154158\n",
      "Iteration 43, loss = 259749.72324151\n",
      "Iteration 44, loss = 258073.66026146\n",
      "Iteration 45, loss = 254308.54873633\n",
      "Iteration 46, loss = 252829.75896327\n",
      "Iteration 47, loss = 250268.02923635\n",
      "Iteration 48, loss = 248207.22713526\n",
      "Iteration 49, loss = 246310.94444304\n",
      "Iteration 50, loss = 245123.18995746\n",
      "2020-10-20 15:35:42.569643 3 0.3595160721820031 0.515141568478964\n"
     ]
    },
    {
     "name": "stderr",
     "output_type": "stream",
     "text": [
      "/Users/mmw/Installations/venvs/mlval/lib/python3.7/site-packages/sklearn/neural_network/_multilayer_perceptron.py:585: ConvergenceWarning: Stochastic Optimizer: Maximum iterations (50) reached and the optimization hasn't converged yet.\n",
      "  % self.max_iter, ConvergenceWarning)\n"
     ]
    },
    {
     "name": "stdout",
     "output_type": "stream",
     "text": [
      "Iteration 1, loss = 475264963891728643415605248.00000000\n",
      "Iteration 2, loss = 26027876349300401795760128.00000000\n",
      "Iteration 3, loss = 635189269266999187341312.00000000\n",
      "Iteration 4, loss = 257567077490486929260544.00000000\n",
      "Iteration 5, loss = 55221479127581900931072.00000000\n",
      "Iteration 6, loss = 10488718450495020072960.00000000\n",
      "Iteration 7, loss = 430888890142551441408.00000000\n",
      "Iteration 8, loss = 5650883133708599033856.00000000\n",
      "Iteration 9, loss = 223996359411580562046976.00000000\n",
      "Iteration 10, loss = 16712913694645267652935680.00000000\n",
      "Iteration 11, loss = 49830859648644256389660672.00000000\n",
      "Iteration 12, loss = 13720929714920846046265344.00000000\n",
      "Iteration 13, loss = 2415519159785270439575552.00000000\n",
      "Iteration 14, loss = 105935287978933249638400.00000000\n",
      "Iteration 15, loss = 46275993710044947415040.00000000\n",
      "Iteration 16, loss = 117982006561963916656640.00000000\n",
      "Iteration 17, loss = 875522643781264796024832.00000000\n",
      "Iteration 18, loss = 9509910467565817234980864.00000000\n",
      "Training loss did not improve more than tol=0.000100 for 10 consecutive epochs. Stopping.\n",
      "2020-10-20 15:36:06.351521 4 -1.662945916608177e+19 -0.36858703848692076\n"
     ]
    }
   ],
   "source": [
    "from datetime import datetime\n",
    "for i in [2, 3, 4]:\n",
    "    rf1 = MLPRegressor(random_state=1, hidden_layer_sizes=(i,2*i,i), max_iter=50, batch_size=256,\n",
    "                       learning_rate='adaptive', early_stopping=False, verbose=True)\n",
    "    rf1.fit(X_tr1, y_tr1)\n",
    "    yhat_tr1 = rf1.predict(X_tr1)\n",
    "    yhat_ts1 = rf1.predict(X_ts1)\n",
    "    inr2 = r2_score(y_tr1, yhat_tr1)\n",
    "    outr2 = r2_score(y_ts1, yhat_ts1)\n",
    "    print(datetime.now(), i, inr2, outr2)"
   ]
  },
  {
   "cell_type": "code",
   "execution_count": 17,
   "metadata": {
    "ExecuteTime": {
     "end_time": "2020-10-20T07:40:32.604239Z",
     "start_time": "2020-10-20T07:36:07.007478Z"
    },
    "scrolled": true
   },
   "outputs": [
    {
     "name": "stdout",
     "output_type": "stream",
     "text": [
      "Iteration 1, loss = 383062.28397412\n",
      "Iteration 2, loss = 383015.26342540\n",
      "Iteration 3, loss = 382969.97412754\n",
      "Iteration 4, loss = 382925.06134873\n",
      "Iteration 5, loss = 382880.71411901\n",
      "Iteration 6, loss = 382836.39649664\n",
      "Iteration 7, loss = 382792.64088732\n",
      "Iteration 8, loss = 382749.43737496\n",
      "Iteration 9, loss = 382706.71256539\n",
      "Iteration 10, loss = 382664.32808223\n",
      "Iteration 11, loss = 382622.36264188\n",
      "Iteration 12, loss = 382580.82354339\n",
      "Iteration 13, loss = 382539.69344868\n",
      "Iteration 14, loss = 382498.71751088\n",
      "Iteration 15, loss = 382458.18747950\n",
      "Iteration 16, loss = 382418.26285497\n",
      "Iteration 17, loss = 382378.79471391\n",
      "Iteration 18, loss = 382339.63588403\n",
      "Iteration 19, loss = 382301.00461661\n",
      "Iteration 20, loss = 382262.79754370\n",
      "Iteration 21, loss = 382225.04225284\n",
      "Iteration 22, loss = 382187.83706163\n",
      "Iteration 23, loss = 382150.47100857\n",
      "Iteration 24, loss = 382113.35577118\n",
      "Iteration 25, loss = 382076.47245102\n",
      "Iteration 26, loss = 382040.01639847\n",
      "Iteration 27, loss = 382003.91685519\n",
      "Iteration 28, loss = 381968.24908103\n",
      "Iteration 29, loss = 381933.03425368\n",
      "Iteration 30, loss = 381898.51494862\n",
      "Iteration 31, loss = 381864.51836154\n",
      "Iteration 32, loss = 381831.00907080\n",
      "Iteration 33, loss = 381797.60334414\n",
      "Iteration 34, loss = 381764.61060287\n",
      "Iteration 35, loss = 381732.04314532\n",
      "Iteration 36, loss = 381699.70083003\n",
      "Iteration 37, loss = 381667.55551251\n",
      "Iteration 38, loss = 381635.89630801\n",
      "Iteration 39, loss = 381604.51943970\n",
      "Iteration 40, loss = 381573.54757737\n",
      "Iteration 41, loss = 381542.92310509\n",
      "Iteration 42, loss = 381512.65597388\n",
      "Iteration 43, loss = 381482.72829456\n",
      "Iteration 44, loss = 381453.23494951\n",
      "Iteration 45, loss = 381424.39455337\n",
      "Iteration 46, loss = 381394.72875028\n",
      "Iteration 47, loss = 381366.03389665\n",
      "Iteration 48, loss = 381337.73007289\n",
      "Iteration 49, loss = 381310.21250899\n",
      "Iteration 50, loss = 381283.21401254\n"
     ]
    },
    {
     "name": "stderr",
     "output_type": "stream",
     "text": [
      "/Users/mmw/Installations/venvs/mlval/lib/python3.7/site-packages/sklearn/neural_network/_multilayer_perceptron.py:585: ConvergenceWarning: Stochastic Optimizer: Maximum iterations (50) reached and the optimization hasn't converged yet.\n",
      "  % self.max_iter, ConvergenceWarning)\n"
     ]
    },
    {
     "name": "stdout",
     "output_type": "stream",
     "text": [
      "2020-10-20 15:38:03.872833 2 -0.004175644758997343 -0.027540251458917808\n",
      "Iteration 1, loss = 2293718409356431227390787584.00000000\n",
      "Iteration 2, loss = 199682353300345941785575424.00000000\n",
      "Iteration 3, loss = 41672837144351834483195904.00000000\n",
      "Iteration 4, loss = 20295572413362920608497664.00000000\n",
      "Iteration 5, loss = 10598019987256278391980032.00000000\n",
      "Iteration 6, loss = 5699225941596981925249024.00000000\n",
      "Iteration 7, loss = 2873473061954991402516480.00000000\n",
      "Iteration 8, loss = 1535457001293821268459520.00000000\n",
      "Iteration 9, loss = 765994361232028858318848.00000000\n",
      "Iteration 10, loss = 462556880324448065945600.00000000\n",
      "Iteration 11, loss = 237092658724441323208704.00000000\n",
      "Iteration 12, loss = 116359028326649569476608.00000000\n",
      "Iteration 13, loss = 48699008595313366663168.00000000\n",
      "Iteration 14, loss = 11272780620372318879744.00000000\n",
      "Iteration 15, loss = 1142420928975172272128.00000000\n",
      "Iteration 16, loss = 105834668893500704.00000000\n",
      "Iteration 17, loss = 352319.81756627\n",
      "Iteration 18, loss = 350899.11140869\n",
      "Iteration 19, loss = 349605.99717192\n",
      "Iteration 20, loss = 348437.48362947\n",
      "Iteration 21, loss = 347394.84903972\n",
      "Iteration 22, loss = 346455.55591907\n",
      "Iteration 23, loss = 345598.25461928\n",
      "Iteration 24, loss = 344812.15072862\n",
      "Iteration 25, loss = 344099.98439304\n",
      "Iteration 26, loss = 343441.45977662\n",
      "Iteration 27, loss = 342822.00353702\n",
      "Iteration 28, loss = 342204.67107970\n",
      "Iteration 29, loss = 82098347.66616580\n",
      "Iteration 30, loss = 341103.65165360\n",
      "Iteration 31, loss = 339542.73389888\n",
      "Iteration 32, loss = 9935998656805422065778688.00000000\n",
      "Iteration 33, loss = 351794.27085933\n",
      "Iteration 34, loss = 351062.71977036\n",
      "Iteration 35, loss = 350298.35634950\n",
      "Iteration 36, loss = 349508.19304525\n",
      "Iteration 37, loss = 348656.17642410\n",
      "Iteration 38, loss = 347814.42714658\n",
      "Iteration 39, loss = 346969.53614624\n",
      "Iteration 40, loss = 346109.35851279\n",
      "Iteration 41, loss = 345259.03895398\n",
      "Iteration 42, loss = 344420.90433904\n",
      "Training loss did not improve more than tol=0.000100 for 10 consecutive epochs. Stopping.\n",
      "2020-10-20 15:39:19.653065 3 0.09404992072067697 -0.16467968717119352\n",
      "Iteration 1, loss = 213950354581950216257142784.00000000\n",
      "Iteration 2, loss = 51500831181855150512799744.00000000\n",
      "Iteration 3, loss = 10256516017567372683509760.00000000\n",
      "Iteration 4, loss = 308618005183774205149184.00000000\n",
      "Iteration 5, loss = 208450197750843657158656.00000000\n",
      "Iteration 6, loss = 75048605883792269246464.00000000\n",
      "Iteration 7, loss = 56339142666396194832384.00000000\n",
      "Iteration 8, loss = 9932292920070266421248.00000000\n",
      "Iteration 9, loss = 170024713304239335538688.00000000\n",
      "Iteration 10, loss = 5346524447193955882237952.00000000\n",
      "Iteration 11, loss = 4535752748633413910528.00000000\n",
      "Iteration 12, loss = 373965.91082548\n",
      "Iteration 13, loss = 368683.60064215\n",
      "Iteration 14, loss = 364172.67553318\n",
      "Iteration 15, loss = 359722.29501524\n",
      "Iteration 16, loss = 354927.50684124\n",
      "Iteration 17, loss = 350525.49951729\n",
      "Iteration 18, loss = 345674.65987595\n",
      "Iteration 19, loss = 341859.65325047\n",
      "Iteration 20, loss = 337337.72105068\n",
      "Iteration 21, loss = 332988.26986386\n",
      "Iteration 22, loss = 328931.85848714\n",
      "Iteration 23, loss = 325231.82888361\n",
      "Iteration 24, loss = 322665.92746347\n",
      "Iteration 25, loss = 320784.38789135\n",
      "Iteration 26, loss = 318616.66614910\n",
      "Iteration 27, loss = 316254.61537406\n",
      "Iteration 28, loss = 314906.59504692\n",
      "Iteration 29, loss = 313310.97963143\n",
      "Iteration 30, loss = 311726.80651064\n",
      "Iteration 31, loss = 309381.53475047\n",
      "Iteration 32, loss = 308441.97188727\n",
      "Iteration 33, loss = 307849.92464129\n",
      "Iteration 34, loss = 306253.56755050\n",
      "Iteration 35, loss = 305693.84658104\n",
      "Iteration 36, loss = 304228.78315288\n",
      "Iteration 37, loss = 303078.97796713\n",
      "Iteration 38, loss = 301505.65185829\n",
      "Iteration 39, loss = 300724.15507810\n",
      "Iteration 40, loss = 300077.43236634\n",
      "Iteration 41, loss = 298657.29256446\n",
      "Iteration 42, loss = 297607.44295864\n",
      "Iteration 43, loss = 296165.23486832\n",
      "Iteration 44, loss = 294312.38260963\n",
      "Iteration 45, loss = 292261.47089774\n",
      "Iteration 46, loss = 290661.82851915\n",
      "Iteration 47, loss = 287543.86774748\n",
      "Iteration 48, loss = 284257.38782737\n",
      "Iteration 49, loss = 280749.81963761\n",
      "Iteration 50, loss = 275943.31672437\n",
      "2020-10-20 15:40:32.602045 4 0.28205233089573156 0.22754528072542513\n"
     ]
    },
    {
     "name": "stderr",
     "output_type": "stream",
     "text": [
      "/Users/mmw/Installations/venvs/mlval/lib/python3.7/site-packages/sklearn/neural_network/_multilayer_perceptron.py:585: ConvergenceWarning: Stochastic Optimizer: Maximum iterations (50) reached and the optimization hasn't converged yet.\n",
      "  % self.max_iter, ConvergenceWarning)\n"
     ]
    }
   ],
   "source": [
    "from datetime import datetime\n",
    "for i in [2, 3, 4]:\n",
    "    rf1 = MLPRegressor(random_state=1, hidden_layer_sizes=(i,2*i,2*i,i), max_iter=50, batch_size=256,\n",
    "                       learning_rate='adaptive', early_stopping=False, verbose=True)\n",
    "    rf1.fit(X_tr1, y_tr1)\n",
    "    yhat_tr1 = rf1.predict(X_tr1)\n",
    "    yhat_ts1 = rf1.predict(X_ts1)\n",
    "    inr2 = r2_score(y_tr1, yhat_tr1)\n",
    "    outr2 = r2_score(y_ts1, yhat_ts1)\n",
    "    print(datetime.now(), i, inr2, outr2)"
   ]
  },
  {
   "cell_type": "code",
   "execution_count": 21,
   "metadata": {
    "ExecuteTime": {
     "end_time": "2020-10-20T07:45:10.281951Z",
     "start_time": "2020-10-20T07:42:55.222035Z"
    },
    "scrolled": true
   },
   "outputs": [
    {
     "name": "stdout",
     "output_type": "stream",
     "text": [
      "Iteration 1, loss = 254295382889460293173248.00000000\n",
      "Iteration 2, loss = 187371240903551875870097408.00000000\n",
      "Iteration 3, loss = 366097.38195087\n",
      "Iteration 4, loss = 347215.71078189\n",
      "Iteration 5, loss = 339688.39129555\n",
      "Iteration 6, loss = 335497.44964350\n",
      "Iteration 7, loss = 331794.31516089\n",
      "Iteration 8, loss = 329922.24987699\n",
      "Iteration 9, loss = 326537.83304283\n",
      "Iteration 10, loss = 324290.39935476\n",
      "Iteration 11, loss = 321784.39463903\n",
      "Iteration 12, loss = 319071.99240911\n",
      "Iteration 13, loss = 316503.09138579\n",
      "Iteration 14, loss = 312992.92097362\n",
      "Iteration 15, loss = 311291.60147889\n",
      "Iteration 16, loss = 309298.93126323\n",
      "Iteration 17, loss = 307583.97071638\n",
      "Iteration 18, loss = 306422.96840641\n",
      "Iteration 19, loss = 303784.19935951\n",
      "Iteration 20, loss = 301049.00191703\n",
      "Iteration 21, loss = 300669.11298676\n",
      "Iteration 22, loss = 299349.24143141\n",
      "Iteration 23, loss = 296294.01227877\n",
      "Iteration 24, loss = 294947.74862349\n",
      "Iteration 25, loss = 291538.05735831\n",
      "Iteration 26, loss = 289600.34172863\n",
      "Iteration 27, loss = 286683.78185393\n",
      "Iteration 28, loss = 283351.06393160\n",
      "Iteration 29, loss = 285996.50494492\n",
      "Iteration 30, loss = 277673.33651324\n",
      "Iteration 31, loss = 272949.26873925\n",
      "Iteration 32, loss = 271054.83473218\n",
      "Iteration 33, loss = 266610.85428790\n",
      "Iteration 34, loss = 266465.39935233\n",
      "Iteration 35, loss = 262578.52706806\n",
      "Iteration 36, loss = 261333.61977570\n",
      "Iteration 37, loss = 257884.92321423\n",
      "Iteration 38, loss = 258885.84739021\n",
      "Iteration 39, loss = 12504649923153631865995264.00000000\n",
      "Iteration 40, loss = 278702.90630082\n",
      "Iteration 41, loss = 268128.36710695\n",
      "Iteration 42, loss = 262905.29154158\n",
      "Iteration 43, loss = 259749.72324151\n",
      "Iteration 44, loss = 258073.66026146\n",
      "Iteration 45, loss = 254308.54873633\n",
      "Iteration 46, loss = 252829.75896327\n",
      "Iteration 47, loss = 250268.02923635\n",
      "Iteration 48, loss = 248207.22713526\n",
      "Iteration 49, loss = 246310.94444304\n",
      "Iteration 50, loss = 245123.18995746\n",
      "Iteration 51, loss = 243445.13973521\n",
      "Iteration 52, loss = 241538.23036435\n",
      "Iteration 53, loss = 239720.20808966\n",
      "Iteration 54, loss = 239482.10345474\n",
      "Iteration 55, loss = 237375.14510757\n",
      "Iteration 56, loss = 235872.11381526\n",
      "Iteration 57, loss = 235441.02914228\n",
      "Iteration 58, loss = 234351.66230803\n",
      "Iteration 59, loss = 233326.11261867\n",
      "Iteration 60, loss = 232873.74170078\n",
      "Iteration 61, loss = 232967.04772388\n",
      "Iteration 62, loss = 232489.80662982\n",
      "Iteration 63, loss = 231171.75370635\n",
      "Iteration 64, loss = 230908.62652769\n",
      "Iteration 65, loss = 230705.30841375\n",
      "Iteration 66, loss = 230703.12575645\n",
      "Iteration 67, loss = 230272.46576373\n",
      "Iteration 68, loss = 230169.18669040\n",
      "Iteration 69, loss = 229256.26528395\n",
      "Iteration 70, loss = 229457.87365651\n",
      "Iteration 71, loss = 228759.81467077\n",
      "Iteration 72, loss = 228161.49761295\n",
      "Iteration 73, loss = 227777.09992259\n",
      "Iteration 74, loss = 227820.64289738\n",
      "Iteration 75, loss = 227469.66638629\n",
      "Iteration 76, loss = 227517.29877163\n",
      "Iteration 77, loss = 226833.24033482\n",
      "Iteration 78, loss = 226445.57512869\n",
      "Iteration 79, loss = 227080.91764783\n",
      "Iteration 80, loss = 226318.23782254\n"
     ]
    },
    {
     "name": "stderr",
     "output_type": "stream",
     "text": [
      "/Users/mmw/Installations/venvs/mlval/lib/python3.7/site-packages/sklearn/neural_network/_multilayer_perceptron.py:585: ConvergenceWarning: Stochastic Optimizer: Maximum iterations (80) reached and the optimization hasn't converged yet.\n",
      "  % self.max_iter, ConvergenceWarning)\n"
     ]
    }
   ],
   "source": [
    "i=3\n",
    "rf1 = MLPRegressor(random_state=1, hidden_layer_sizes=(i,2*i,i), max_iter=50, batch_size=256,\n",
    "                         learning_rate='adaptive', early_stopping=False, verbose=True).fit(X_tr1, y_tr1)\n",
    "yhat_tr1 = rf1.predict(X_tr1)\n",
    "yhat_ts1 = rf1.predict(X_ts1)"
   ]
  },
  {
   "cell_type": "code",
   "execution_count": 23,
   "metadata": {
    "ExecuteTime": {
     "end_time": "2020-10-20T07:47:53.495671Z",
     "start_time": "2020-10-20T07:47:53.302370Z"
    }
   },
   "outputs": [
    {
     "data": {
      "text/plain": [
       "<AxesSubplot:>"
      ]
     },
     "execution_count": 23,
     "metadata": {},
     "output_type": "execute_result"
    },
    {
     "data": {
      "image/png": "[encoded data removed]",
      "text/plain": [
       "<Figure size 720x432 with 1 Axes>"
      ]
     },
     "metadata": {},
     "output_type": "display_data"
    }
   ],
   "source": [
    "import seaborn as sns\n",
    "sns.set(rc={'figure.figsize':(10,6)})\n",
    "pd.DataFrame(yhat_ts1).plot()"
   ]
  },
  {
   "cell_type": "code",
   "execution_count": 24,
   "metadata": {
    "ExecuteTime": {
     "end_time": "2020-10-20T07:47:59.732159Z",
     "start_time": "2020-10-20T07:47:59.523007Z"
    }
   },
   "outputs": [
    {
     "data": {
      "text/plain": [
       "<AxesSubplot:>"
      ]
     },
     "execution_count": 24,
     "metadata": {},
     "output_type": "execute_result"
    },
    {
     "data": {
      "image/png": "[encoded data removed]",
      "text/plain": [
       "<Figure size 720x432 with 1 Axes>"
      ]
     },
     "metadata": {},
     "output_type": "display_data"
    }
   ],
   "source": [
    "pd.DataFrame(y_ts1).plot()"
   ]
  },
  {
   "cell_type": "code",
   "execution_count": 25,
   "metadata": {
    "ExecuteTime": {
     "end_time": "2020-10-20T07:48:07.805223Z",
     "start_time": "2020-10-20T07:48:07.789928Z"
    }
   },
   "outputs": [
    {
     "name": "stdout",
     "output_type": "stream",
     "text": [
      "1.0499027829225427 0.9682958560140836 -0.9230171070251889 -0.6458298330819496\n"
     ]
    },
    {
     "name": "stderr",
     "output_type": "stream",
     "text": [
      "/Users/mmw/Installations/venvs/mlval/lib/python3.7/site-packages/ipykernel_launcher.py:3: RuntimeWarning: divide by zero encountered in true_divide\n",
      "  This is separate from the ipykernel package so we can avoid doing imports until\n",
      "/Users/mmw/Installations/venvs/mlval/lib/python3.7/site-packages/ipykernel_launcher.py:7: RuntimeWarning: divide by zero encountered in true_divide\n",
      "  import sys\n"
     ]
    }
   ],
   "source": [
    "def median_absolute_percentage_error(y_true, y_pred): \n",
    "    y_true, y_pred = np.array(y_true), np.array(y_pred)\n",
    "    return np.median(np.abs((y_true - y_pred) / y_true)) \n",
    "\n",
    "def median_percentage_error(y_true, y_pred): \n",
    "    y_true, y_pred = np.array(y_true), np.array(y_pred)\n",
    "    return np.median((-(y_true - y_pred) / y_true)) \n",
    "\n",
    "pls1_in_mdape = median_absolute_percentage_error(y_tr1, yhat_tr1[:])\n",
    "pls1_out_mdape = median_absolute_percentage_error(y_ts1, yhat_ts1[:])\n",
    "pls1_in_mdpe = median_percentage_error(y_tr1, yhat_tr1[:])\n",
    "pls1_out_mdpe = median_percentage_error(y_ts1, yhat_ts1[:])\n",
    "print(pls1_in_mdape, pls1_out_mdape, pls1_in_mdpe, pls1_out_mdpe)"
   ]
  },
  {
   "cell_type": "code",
   "execution_count": 27,
   "metadata": {
    "ExecuteTime": {
     "end_time": "2020-10-20T07:48:43.117579Z",
     "start_time": "2020-10-20T07:48:43.106095Z"
    }
   },
   "outputs": [
    {
     "name": "stderr",
     "output_type": "stream",
     "text": [
      "/Users/mmw/Installations/venvs/mlval/lib/python3.7/site-packages/ipykernel_launcher.py:3: VisibleDeprecationWarning: Creating an ndarray from ragged nested sequences (which is a list-or-tuple of lists-or-tuples-or ndarrays with different lengths or shapes) is deprecated. If you meant to do this, you must specify 'dtype=object' when creating the ndarray\n",
      "  This is separate from the ipykernel package so we can avoid doing imports until\n"
     ]
    },
    {
     "ename": "ValueError",
     "evalue": "operands could not be broadcast together with shapes (3,6) (301,3) ",
     "output_type": "error",
     "traceback": [
      "\u001B[0;31m---------------------------------------------------------------------------\u001B[0m",
      "\u001B[0;31mValueError\u001B[0m                                Traceback (most recent call last)",
      "\u001B[0;32m<ipython-input-27-9c5cb5986d63>\u001B[0m in \u001B[0;36m<module>\u001B[0;34m\u001B[0m\n\u001B[1;32m      1\u001B[0m \u001B[0;32mimport\u001B[0m \u001B[0mseaborn\u001B[0m \u001B[0;32mas\u001B[0m \u001B[0msns\u001B[0m\u001B[0;34m\u001B[0m\u001B[0;34m\u001B[0m\u001B[0m\n\u001B[1;32m      2\u001B[0m \u001B[0;34m\u001B[0m\u001B[0m\n\u001B[0;32m----> 3\u001B[0;31m \u001B[0mprint\u001B[0m\u001B[0;34m(\u001B[0m\u001B[0mnp\u001B[0m\u001B[0;34m.\u001B[0m\u001B[0masarray\u001B[0m\u001B[0;34m(\u001B[0m\u001B[0mlist\u001B[0m\u001B[0;34m(\u001B[0m\u001B[0mX_ts1\u001B[0m\u001B[0;34m.\u001B[0m\u001B[0mkeys\u001B[0m\u001B[0;34m(\u001B[0m\u001B[0;34m)\u001B[0m\u001B[0;34m)\u001B[0m\u001B[0;34m)\u001B[0m\u001B[0;34m[\u001B[0m\u001B[0;34m(\u001B[0m\u001B[0mnp\u001B[0m\u001B[0;34m.\u001B[0m\u001B[0mabs\u001B[0m\u001B[0;34m(\u001B[0m\u001B[0mrf1\u001B[0m\u001B[0;34m.\u001B[0m\u001B[0mcoefs_\u001B[0m\u001B[0;34m[\u001B[0m\u001B[0;34m:\u001B[0m\u001B[0;34m]\u001B[0m\u001B[0;34m)\u001B[0m\u001B[0;34m.\u001B[0m\u001B[0margsort\u001B[0m\u001B[0;34m(\u001B[0m\u001B[0;34m)\u001B[0m\u001B[0;34m[\u001B[0m\u001B[0;34m-\u001B[0m\u001B[0;36m15\u001B[0m\u001B[0;34m:\u001B[0m\u001B[0;34m]\u001B[0m\u001B[0;34m[\u001B[0m\u001B[0;34m:\u001B[0m\u001B[0;34m:\u001B[0m\u001B[0;34m-\u001B[0m\u001B[0;36m1\u001B[0m\u001B[0;34m]\u001B[0m\u001B[0;34m)\u001B[0m\u001B[0;34m]\u001B[0m\u001B[0;34m)\u001B[0m\u001B[0;34m\u001B[0m\u001B[0;34m\u001B[0m\u001B[0m\n\u001B[0m\u001B[1;32m      4\u001B[0m \u001B[0mrf1\u001B[0m\u001B[0;34m.\u001B[0m\u001B[0mscore\u001B[0m\u001B[0;34m(\u001B[0m\u001B[0mX_ts1\u001B[0m\u001B[0;34m,\u001B[0m \u001B[0my_ts1\u001B[0m\u001B[0;34m)\u001B[0m\u001B[0;34m\u001B[0m\u001B[0;34m\u001B[0m\u001B[0m\n\u001B[1;32m      5\u001B[0m \u001B[0msns\u001B[0m\u001B[0;34m.\u001B[0m\u001B[0mset\u001B[0m\u001B[0;34m(\u001B[0m\u001B[0mrc\u001B[0m\u001B[0;34m=\u001B[0m\u001B[0;34m{\u001B[0m\u001B[0;34m'figure.figsize'\u001B[0m\u001B[0;34m:\u001B[0m\u001B[0;34m(\u001B[0m\u001B[0;36m300\u001B[0m\u001B[0;34m,\u001B[0m\u001B[0;36m6\u001B[0m\u001B[0;34m)\u001B[0m\u001B[0;34m}\u001B[0m\u001B[0;34m)\u001B[0m\u001B[0;34m\u001B[0m\u001B[0;34m\u001B[0m\u001B[0m\n",
      "\u001B[0;31mValueError\u001B[0m: operands could not be broadcast together with shapes (3,6) (301,3) "
     ]
    }
   ],
   "source": [
    "import seaborn as sns\n",
    "\n",
    "print(np.asarray(list(X_ts1.keys()))[(np.abs(rf1.coefs_[:]).argsort()[-15:][::-1])])\n",
    "rf1.score(X_ts1, y_ts1)\n",
    "sns.set(rc={'figure.figsize':(300,6)})\n",
    "ax = sns.barplot(x=list(X_ts1.keys()), y=rf1.coefs_[:])"
   ]
  },
  {
   "cell_type": "code",
   "execution_count": 30,
   "metadata": {
    "ExecuteTime": {
     "end_time": "2020-10-19T08:15:32.522294Z",
     "start_time": "2020-10-19T08:15:31.680030Z"
    }
   },
   "outputs": [
    {
     "name": "stdout",
     "output_type": "stream",
     "text": [
      "['ib' 'pi' 'intan' 'ebit_-5' 'ebitda_-5' 'niadj' 'debt_ebitda' 'ptpm' 'ni'\n",
      " 'ocf_lct' 'ni_0' 'evm' 'gpm' 'ceq' 'opmad']\n"
     ]
    },
    {
     "data": {
      "image/png": "[encoded data removed]",
      "text/plain": [
       "<Figure size 1080x432 with 1 Axes>"
      ]
     },
     "metadata": {},
     "output_type": "display_data"
    }
   ],
   "source": [
    "print(np.asarray(list(X_ts1.keys()))[(np.abs(rf1.feature_importances_[:]).argsort()[-15:][::-1])])\n",
    "rf1.score(X_ts1, y_ts1)\n",
    "sns.set(rc={'figure.figsize':(15,6)})\n",
    "ax1 = sns.barplot(x=np.asarray(list(X_ts1.keys()))[rf1.feature_importances_[:].argsort()[-15:][::-1]], \n",
    "                  y=(rf1.feature_importances_[:][rf1.feature_importances_[:].argsort()[-15:][::-1]]))"
   ]
  },
  {
   "cell_type": "code",
   "execution_count": null,
   "metadata": {},
   "outputs": [],
   "source": []
  }
 ],
 "metadata": {
  "kernelspec": {
   "display_name": "Python 3",
   "language": "python",
   "name": "python3"
  },
  "language_info": {
   "codemirror_mode": {
    "name": "ipython",
    "version": 3
   },
   "file_extension": ".py",
   "mimetype": "text/x-python",
   "name": "python",
   "nbconvert_exporter": "python",
   "pygments_lexer": "ipython3",
   "version": "3.7.7"
  },
  "toc": {
   "base_numbering": 1,
   "nav_menu": {},
   "number_sections": true,
   "sideBar": true,
   "skip_h1_title": false,
   "title_cell": "Table of Contents",
   "title_sidebar": "Contents",
   "toc_cell": false,
   "toc_position": {},
   "toc_section_display": true,
   "toc_window_display": false
  },
  "varInspector": {
   "cols": {
    "lenName": 16,
    "lenType": 16,
    "lenVar": 40
   },
   "kernels_config": {
    "python": {
     "delete_cmd_postfix": "",
     "delete_cmd_prefix": "del ",
     "library": "var_list.py",
     "varRefreshCmd": "print(var_dic_list())"
    },
    "r": {
     "delete_cmd_postfix": ") ",
     "delete_cmd_prefix": "rm(",
     "library": "var_list.r",
     "varRefreshCmd": "cat(var_dic_list()) "
    }
   },
   "types_to_exclude": [
    "module",
    "function",
    "builtin_function_or_method",
    "instance",
    "_Feature"
   ],
   "window_display": false
  }
 },
 "nbformat": 4,
 "nbformat_minor": 4
}